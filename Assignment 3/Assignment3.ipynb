{
  "nbformat": 4,
  "nbformat_minor": 0,
  "metadata": {
    "colab": {
      "name": "Assignment3.ipynb",
      "version": "0.3.2",
      "views": {},
      "default_view": {},
      "provenance": []
    },
    "kernelspec": {
      "name": "python3",
      "display_name": "Python 3"
    }
  },
  "cells": [
    {
      "metadata": {
        "id": "mWHTQiIY4qJc",
        "colab_type": "code",
        "colab": {
          "autoexec": {
            "startup": false,
            "wait_interval": 0
          }
        }
      },
      "cell_type": "code",
      "source": [
        "import numpy as np\n",
        "import pandas as pd"
      ],
      "execution_count": 0,
      "outputs": []
    },
    {
      "metadata": {
        "id": "e4PpI70-8Wfu",
        "colab_type": "code",
        "colab": {
          "autoexec": {
            "startup": false,
            "wait_interval": 0
          },
          "base_uri": "https://localhost:8080/",
          "height": 1471
        },
        "outputId": "5b858c94-4c7b-4051-b82a-bd5dec19df13",
        "executionInfo": {
          "status": "ok",
          "timestamp": 1523218039926,
          "user_tz": 240,
          "elapsed": 17352,
          "user": {
            "displayName": "Shreya Chudasama",
            "photoUrl": "https://lh3.googleusercontent.com/a/default-user=s128",
            "userId": "114045999881408856011"
          }
        }
      },
      "cell_type": "code",
      "source": [
        "!pip install missingno\n",
        "!pip install pivottablejs\n",
        "!pip install pandas_profiling\n",
        "!pip install ipywidgets "
      ],
      "execution_count": 2,
      "outputs": [
        {
          "output_type": "stream",
          "text": [
            "Collecting missingno\n",
            "  Downloading missingno-0.4.0.tar.gz\n",
            "Requirement already satisfied: matplotlib in /usr/local/lib/python3.6/dist-packages (from missingno)\n",
            "Requirement already satisfied: numpy in /usr/local/lib/python3.6/dist-packages (from missingno)\n",
            "Requirement already satisfied: scipy in /usr/local/lib/python3.6/dist-packages (from missingno)\n",
            "Requirement already satisfied: seaborn in /usr/local/lib/python3.6/dist-packages (from missingno)\n",
            "Requirement already satisfied: cycler>=0.10 in /usr/local/lib/python3.6/dist-packages (from matplotlib->missingno)\n",
            "Requirement already satisfied: six>=1.10 in /usr/local/lib/python3.6/dist-packages (from matplotlib->missingno)\n",
            "Requirement already satisfied: pyparsing!=2.0.4,!=2.1.2,!=2.1.6,>=2.0.1 in /usr/local/lib/python3.6/dist-packages (from matplotlib->missingno)\n",
            "Requirement already satisfied: python-dateutil>=2.1 in /usr/local/lib/python3.6/dist-packages (from matplotlib->missingno)\n",
            "Requirement already satisfied: pytz in /usr/local/lib/python3.6/dist-packages (from matplotlib->missingno)\n",
            "Building wheels for collected packages: missingno\n",
            "  Running setup.py bdist_wheel for missingno ... \u001b[?25l-\b \bdone\n",
            "\u001b[?25h  Stored in directory: /content/.cache/pip/wheels/92/46/9a/a8f3e9ad98ee4a53242e5ec371309dd71bd1177eb95c72788f\n",
            "Successfully built missingno\n",
            "Installing collected packages: missingno\n",
            "Successfully installed missingno-0.4.0\n",
            "Collecting pivottablejs\n",
            "  Downloading pivottablejs-0.9.0-py2.py3-none-any.whl\n",
            "Installing collected packages: pivottablejs\n",
            "Successfully installed pivottablejs-0.9.0\n",
            "Collecting pandas_profiling\n",
            "  Downloading pandas_profiling-1.4.1-py2.py3-none-any.whl\n",
            "Requirement already satisfied: jinja2>=2.8 in /usr/local/lib/python3.6/dist-packages (from pandas_profiling)\n",
            "Requirement already satisfied: six>=1.9 in /usr/local/lib/python3.6/dist-packages (from pandas_profiling)\n",
            "Requirement already satisfied: pandas>=0.19 in /usr/local/lib/python3.6/dist-packages (from pandas_profiling)\n",
            "Requirement already satisfied: matplotlib>=1.4 in /usr/local/lib/python3.6/dist-packages (from pandas_profiling)\n",
            "Requirement already satisfied: MarkupSafe in /usr/local/lib/python3.6/dist-packages (from jinja2>=2.8->pandas_profiling)\n",
            "Requirement already satisfied: pytz>=2011k in /usr/local/lib/python3.6/dist-packages (from pandas>=0.19->pandas_profiling)\n",
            "Requirement already satisfied: python-dateutil>=2 in /usr/local/lib/python3.6/dist-packages (from pandas>=0.19->pandas_profiling)\n",
            "Requirement already satisfied: numpy>=1.9.0 in /usr/local/lib/python3.6/dist-packages (from pandas>=0.19->pandas_profiling)\n",
            "Requirement already satisfied: cycler>=0.10 in /usr/local/lib/python3.6/dist-packages (from matplotlib>=1.4->pandas_profiling)\n",
            "Requirement already satisfied: pyparsing!=2.0.4,!=2.1.2,!=2.1.6,>=2.0.1 in /usr/local/lib/python3.6/dist-packages (from matplotlib>=1.4->pandas_profiling)\n",
            "Installing collected packages: pandas-profiling\n",
            "Successfully installed pandas-profiling-1.4.1\n",
            "Collecting ipywidgets\n",
            "  Downloading ipywidgets-7.2.0-py2.py3-none-any.whl (107kB)\n",
            "\u001b[K    100% |████████████████████████████████| 112kB 3.3MB/s \n",
            "\u001b[?25hCollecting widgetsnbextension~=3.2.0 (from ipywidgets)\n",
            "  Downloading widgetsnbextension-3.2.0-py2.py3-none-any.whl (2.2MB)\n",
            "\u001b[K    100% |████████████████████████████████| 2.2MB 537kB/s \n",
            "\u001b[?25hRequirement already satisfied: ipython>=4.0.0; python_version >= \"3.3\" in /usr/local/lib/python3.6/dist-packages (from ipywidgets)\n",
            "Requirement already satisfied: ipykernel>=4.5.1 in /usr/local/lib/python3.6/dist-packages (from ipywidgets)\n",
            "Requirement already satisfied: traitlets>=4.3.1 in /usr/local/lib/python3.6/dist-packages (from ipywidgets)\n",
            "Requirement already satisfied: nbformat>=4.2.0 in /usr/local/lib/python3.6/dist-packages (from ipywidgets)\n",
            "Requirement already satisfied: notebook>=4.4.1 in /usr/local/lib/python3.6/dist-packages (from widgetsnbextension~=3.2.0->ipywidgets)\n",
            "Requirement already satisfied: pexpect; sys_platform != \"win32\" in /usr/local/lib/python3.6/dist-packages (from ipython>=4.0.0; python_version >= \"3.3\"->ipywidgets)\n",
            "Requirement already satisfied: prompt-toolkit<2.0.0,>=1.0.4 in /usr/local/lib/python3.6/dist-packages (from ipython>=4.0.0; python_version >= \"3.3\"->ipywidgets)\n",
            "Requirement already satisfied: simplegeneric>0.8 in /usr/local/lib/python3.6/dist-packages (from ipython>=4.0.0; python_version >= \"3.3\"->ipywidgets)\n",
            "Requirement already satisfied: pickleshare in /usr/local/lib/python3.6/dist-packages (from ipython>=4.0.0; python_version >= \"3.3\"->ipywidgets)\n",
            "Requirement already satisfied: setuptools>=18.5 in /usr/lib/python3/dist-packages (from ipython>=4.0.0; python_version >= \"3.3\"->ipywidgets)\n",
            "Requirement already satisfied: decorator in /usr/local/lib/python3.6/dist-packages (from ipython>=4.0.0; python_version >= \"3.3\"->ipywidgets)\n",
            "Requirement already satisfied: pygments in /usr/local/lib/python3.6/dist-packages (from ipython>=4.0.0; python_version >= \"3.3\"->ipywidgets)\n",
            "Requirement already satisfied: tornado>=4.0 in /usr/local/lib/python3.6/dist-packages (from ipykernel>=4.5.1->ipywidgets)\n",
            "Requirement already satisfied: jupyter-client in /usr/local/lib/python3.6/dist-packages (from ipykernel>=4.5.1->ipywidgets)\n",
            "Requirement already satisfied: ipython-genutils in /usr/local/lib/python3.6/dist-packages (from traitlets>=4.3.1->ipywidgets)\n",
            "Requirement already satisfied: six in /usr/local/lib/python3.6/dist-packages (from traitlets>=4.3.1->ipywidgets)\n",
            "Requirement already satisfied: jupyter-core in /usr/local/lib/python3.6/dist-packages (from nbformat>=4.2.0->ipywidgets)\n",
            "Requirement already satisfied: jsonschema!=2.5.0,>=2.4 in /usr/local/lib/python3.6/dist-packages (from nbformat>=4.2.0->ipywidgets)\n",
            "Requirement already satisfied: nbconvert in /usr/local/lib/python3.6/dist-packages (from notebook>=4.4.1->widgetsnbextension~=3.2.0->ipywidgets)\n",
            "Requirement already satisfied: terminado>=0.3.3; sys_platform != \"win32\" in /usr/local/lib/python3.6/dist-packages (from notebook>=4.4.1->widgetsnbextension~=3.2.0->ipywidgets)\n",
            "Requirement already satisfied: jinja2 in /usr/local/lib/python3.6/dist-packages (from notebook>=4.4.1->widgetsnbextension~=3.2.0->ipywidgets)\n",
            "Requirement already satisfied: ptyprocess>=0.5 in /usr/local/lib/python3.6/dist-packages (from pexpect; sys_platform != \"win32\"->ipython>=4.0.0; python_version >= \"3.3\"->ipywidgets)\n",
            "Requirement already satisfied: wcwidth in /usr/local/lib/python3.6/dist-packages (from prompt-toolkit<2.0.0,>=1.0.4->ipython>=4.0.0; python_version >= \"3.3\"->ipywidgets)\n",
            "Requirement already satisfied: python-dateutil>=2.1 in /usr/local/lib/python3.6/dist-packages (from jupyter-client->ipykernel>=4.5.1->ipywidgets)\n",
            "Requirement already satisfied: pyzmq>=13 in /usr/local/lib/python3.6/dist-packages (from jupyter-client->ipykernel>=4.5.1->ipywidgets)\n",
            "Requirement already satisfied: entrypoints>=0.2.2 in /usr/local/lib/python3.6/dist-packages (from nbconvert->notebook>=4.4.1->widgetsnbextension~=3.2.0->ipywidgets)\n",
            "Requirement already satisfied: bleach in /usr/local/lib/python3.6/dist-packages (from nbconvert->notebook>=4.4.1->widgetsnbextension~=3.2.0->ipywidgets)\n",
            "Requirement already satisfied: testpath in /usr/local/lib/python3.6/dist-packages (from nbconvert->notebook>=4.4.1->widgetsnbextension~=3.2.0->ipywidgets)\n",
            "Collecting pandocfilters>=1.4.1 (from nbconvert->notebook>=4.4.1->widgetsnbextension~=3.2.0->ipywidgets)\n",
            "  Downloading pandocfilters-1.4.2.tar.gz\n"
          ],
          "name": "stdout"
        },
        {
          "output_type": "stream",
          "text": [
            "Requirement already satisfied: mistune>=0.7.4 in /usr/local/lib/python3.6/dist-packages (from nbconvert->notebook>=4.4.1->widgetsnbextension~=3.2.0->ipywidgets)\r\n",
            "Requirement already satisfied: MarkupSafe in /usr/local/lib/python3.6/dist-packages (from jinja2->notebook>=4.4.1->widgetsnbextension~=3.2.0->ipywidgets)\r\n",
            "Requirement already satisfied: html5lib!=0.9999,!=0.99999,<0.99999999,>=0.999 in /usr/local/lib/python3.6/dist-packages (from bleach->nbconvert->notebook>=4.4.1->widgetsnbextension~=3.2.0->ipywidgets)\r\n",
            "Building wheels for collected packages: pandocfilters\n",
            "  Running setup.py bdist_wheel for pandocfilters ... \u001b[?25l-\b \bdone\n",
            "\u001b[?25h  Stored in directory: /content/.cache/pip/wheels/08/5b/5b/66b3cde6f8215f8345479ef3699d6ddbb860f6ea7072008f8b\n",
            "Successfully built pandocfilters\n",
            "Installing collected packages: widgetsnbextension, ipywidgets, pandocfilters\n",
            "  Found existing installation: pandocfilters 1.3.0\n",
            "    Uninstalling pandocfilters-1.3.0:\n",
            "      Successfully uninstalled pandocfilters-1.3.0\n",
            "Successfully installed ipywidgets-7.2.0 pandocfilters-1.4.2 widgetsnbextension-3.2.0\n"
          ],
          "name": "stdout"
        }
      ]
    },
    {
      "metadata": {
        "id": "Zpqj3Lzz8E7g",
        "colab_type": "code",
        "colab": {
          "autoexec": {
            "startup": false,
            "wait_interval": 0
          },
          "base_uri": "https://localhost:8080/",
          "height": 1316
        },
        "outputId": "4f4694fe-1087-445f-9838-169e774acc88",
        "executionInfo": {
          "status": "ok",
          "timestamp": 1523218045125,
          "user_tz": 240,
          "elapsed": 5151,
          "user": {
            "displayName": "Shreya Chudasama",
            "photoUrl": "https://lh3.googleusercontent.com/a/default-user=s128",
            "userId": "114045999881408856011"
          }
        }
      },
      "cell_type": "code",
      "source": [
        "%matplotlib inline\n",
        "%config InlineBackend.figure_format='retina'\n",
        "\n",
        "import matplotlib.pyplot as plt\n",
        "import pandas as pd\n",
        "import time\n",
        "import numpy as np\n",
        "import seaborn as sns\n",
        "import datetime\n",
        "import matplotlib as mpl\n",
        "import plotly.plotly as py\n",
        "from plotly.graph_objs import *\n",
        "from matplotlib.pyplot import GridSpec\n",
        "from pandas.tools.plotting import scatter_matrix\n",
        "from sklearn.datasets import make_blobs\n",
        "import missingno as msno\n",
        "import pivottablejs\n",
        "import pandas_profiling\n",
        "import logging\n",
        "\n",
        "from __future__ import print_function\n",
        "from ipywidgets import interact, interactive, fixed, interact_manual\n",
        "import ipywidgets as widgets"
      ],
      "execution_count": 3,
      "outputs": [
        {
          "output_type": "stream",
          "text": [
            "/usr/local/lib/python3.6/dist-packages/pandas_profiling/plot.py:15: UserWarning:\n",
            "\n",
            "\n",
            "This call to matplotlib.use() has no effect because the backend has already\n",
            "been chosen; matplotlib.use() must be called *before* pylab, matplotlib.pyplot,\n",
            "or matplotlib.backends is imported for the first time.\n",
            "\n",
            "The backend was *originally* set to 'module://ipykernel.pylab.backend_inline' by the following code:\n",
            "  File \"/usr/lib/python3.6/runpy.py\", line 193, in _run_module_as_main\n",
            "    \"__main__\", mod_spec)\n",
            "  File \"/usr/lib/python3.6/runpy.py\", line 85, in _run_code\n",
            "    exec(code, run_globals)\n",
            "  File \"/usr/local/lib/python3.6/dist-packages/ipykernel_launcher.py\", line 16, in <module>\n",
            "    app.launch_new_instance()\n",
            "  File \"/usr/local/lib/python3.6/dist-packages/traitlets/config/application.py\", line 658, in launch_instance\n",
            "    app.start()\n",
            "  File \"/usr/local/lib/python3.6/dist-packages/ipykernel/kernelapp.py\", line 477, in start\n",
            "    ioloop.IOLoop.instance().start()\n",
            "  File \"/usr/local/lib/python3.6/dist-packages/zmq/eventloop/ioloop.py\", line 177, in start\n",
            "    super(ZMQIOLoop, self).start()\n",
            "  File \"/usr/local/lib/python3.6/dist-packages/tornado/ioloop.py\", line 888, in start\n",
            "    handler_func(fd_obj, events)\n",
            "  File \"/usr/local/lib/python3.6/dist-packages/tornado/stack_context.py\", line 277, in null_wrapper\n",
            "    return fn(*args, **kwargs)\n",
            "  File \"/usr/local/lib/python3.6/dist-packages/zmq/eventloop/zmqstream.py\", line 440, in _handle_events\n",
            "    self._handle_recv()\n",
            "  File \"/usr/local/lib/python3.6/dist-packages/zmq/eventloop/zmqstream.py\", line 472, in _handle_recv\n",
            "    self._run_callback(callback, msg)\n",
            "  File \"/usr/local/lib/python3.6/dist-packages/zmq/eventloop/zmqstream.py\", line 414, in _run_callback\n",
            "    callback(*args, **kwargs)\n",
            "  File \"/usr/local/lib/python3.6/dist-packages/tornado/stack_context.py\", line 277, in null_wrapper\n",
            "    return fn(*args, **kwargs)\n",
            "  File \"/usr/local/lib/python3.6/dist-packages/ipykernel/kernelbase.py\", line 283, in dispatcher\n",
            "    return self.dispatch_shell(stream, msg)\n",
            "  File \"/usr/local/lib/python3.6/dist-packages/ipykernel/kernelbase.py\", line 235, in dispatch_shell\n",
            "    handler(stream, idents, msg)\n",
            "  File \"/usr/local/lib/python3.6/dist-packages/ipykernel/kernelbase.py\", line 399, in execute_request\n",
            "    user_expressions, allow_stdin)\n",
            "  File \"/usr/local/lib/python3.6/dist-packages/ipykernel/ipkernel.py\", line 196, in do_execute\n",
            "    res = shell.run_cell(code, store_history=store_history, silent=silent)\n",
            "  File \"/usr/local/lib/python3.6/dist-packages/ipykernel/zmqshell.py\", line 533, in run_cell\n",
            "    return super(ZMQInteractiveShell, self).run_cell(*args, **kwargs)\n",
            "  File \"/usr/local/lib/python3.6/dist-packages/IPython/core/interactiveshell.py\", line 2718, in run_cell\n",
            "    interactivity=interactivity, compiler=compiler, result=result)\n",
            "  File \"/usr/local/lib/python3.6/dist-packages/IPython/core/interactiveshell.py\", line 2822, in run_ast_nodes\n",
            "    if self.run_code(code, result):\n",
            "  File \"/usr/local/lib/python3.6/dist-packages/IPython/core/interactiveshell.py\", line 2882, in run_code\n",
            "    exec(code_obj, self.user_global_ns, self.user_ns)\n",
            "  File \"<ipython-input-3-09331cff9cca>\", line 1, in <module>\n",
            "    get_ipython().magic('matplotlib inline')\n",
            "  File \"/usr/local/lib/python3.6/dist-packages/IPython/core/interactiveshell.py\", line 2160, in magic\n",
            "    return self.run_line_magic(magic_name, magic_arg_s)\n",
            "  File \"/usr/local/lib/python3.6/dist-packages/IPython/core/interactiveshell.py\", line 2081, in run_line_magic\n",
            "    result = fn(*args,**kwargs)\n",
            "  File \"<decorator-gen-105>\", line 2, in matplotlib\n",
            "  File \"/usr/local/lib/python3.6/dist-packages/IPython/core/magic.py\", line 188, in <lambda>\n",
            "    call = lambda f, *a, **k: f(*a, **k)\n",
            "  File \"/usr/local/lib/python3.6/dist-packages/IPython/core/magics/pylab.py\", line 100, in matplotlib\n",
            "    gui, backend = self.shell.enable_matplotlib(args.gui)\n",
            "  File \"/usr/local/lib/python3.6/dist-packages/IPython/core/interactiveshell.py\", line 2950, in enable_matplotlib\n",
            "    pt.activate_matplotlib(backend)\n",
            "  File \"/usr/local/lib/python3.6/dist-packages/IPython/core/pylabtools.py\", line 309, in activate_matplotlib\n",
            "    matplotlib.pyplot.switch_backend(backend)\n",
            "  File \"/usr/local/lib/python3.6/dist-packages/matplotlib/pyplot.py\", line 232, in switch_backend\n",
            "    matplotlib.use(newbackend, warn=False, force=True)\n",
            "  File \"/usr/local/lib/python3.6/dist-packages/matplotlib/__init__.py\", line 1305, in use\n",
            "    reload(sys.modules['matplotlib.backends'])\n",
            "  File \"/usr/lib/python3.6/importlib/__init__.py\", line 166, in reload\n",
            "    _bootstrap._exec(spec, module)\n",
            "  File \"/usr/local/lib/python3.6/dist-packages/matplotlib/backends/__init__.py\", line 14, in <module>\n",
            "    line for line in traceback.format_stack()\n",
            "\n",
            "\n",
            "\n"
          ],
          "name": "stderr"
        }
      ]
    },
    {
      "metadata": {
        "id": "H3nkpreZ40Un",
        "colab_type": "code",
        "colab": {
          "autoexec": {
            "startup": false,
            "wait_interval": 0
          },
          "resources": {
            "http://localhost:8080/nbextensions/google.colab/files.js": {
              "data": "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",
              "ok": true,
              "headers": [
                [
                  "content-type",
                  "application/javascript"
                ]
              ],
              "status": 200,
              "status_text": ""
            }
          },
          "base_uri": "https://localhost:8080/",
          "height": 38
        },
        "cellView": "code",
        "outputId": "679e0134-d1f6-449e-87ee-577dcf04e500",
        "executionInfo": {
          "status": "ok",
          "timestamp": 1523218076554,
          "user_tz": 240,
          "elapsed": 31412,
          "user": {
            "displayName": "Shreya Chudasama",
            "photoUrl": "https://lh3.googleusercontent.com/a/default-user=s128",
            "userId": "114045999881408856011"
          }
        }
      },
      "cell_type": "code",
      "source": [
        "#@title Default title text\n",
        "from google.colab import files\n",
        "\n",
        "uploaded = files.upload()\n",
        "\n",
        "for fn in uploaded.keys():\n",
        "  print('User uploaded file \"{name}\" with length {length} bytes'.format(\n",
        "      name=fn, length=len(uploaded[fn])))    "
      ],
      "execution_count": 4,
      "outputs": [
        {
          "output_type": "display_data",
          "data": {
            "text/html": [
              "\n",
              "     <input type=\"file\" id=\"files-f1eaa39a-1a81-409d-8c42-e243fa4f26fc\" name=\"files[]\" multiple disabled />\n",
              "     <output id=\"result-f1eaa39a-1a81-409d-8c42-e243fa4f26fc\">\n",
              "      Upload widget is only available when the cell has been executed in the\n",
              "      current browser session. Please rerun this cell to enable.\n",
              "      </output>\n",
              "      <script src=\"/nbextensions/google.colab/files.js\"></script> "
            ],
            "text/plain": [
              "<IPython.core.display.HTML object>"
            ]
          },
          "metadata": {
            "tags": []
          }
        }
      ]
    },
    {
      "metadata": {
        "id": "OvxQCG9xxpeu",
        "colab_type": "text"
      },
      "cell_type": "markdown",
      "source": [
        ""
      ]
    },
    {
      "metadata": {
        "id": "b7kGfvZs5FXp",
        "colab_type": "text"
      },
      "cell_type": "markdown",
      "source": [
        "##Dataset Description ¶\n",
        "Source: https://www.kaggle.com/giantuji/UjiIndoorLoc\n",
        "\n",
        "WAP001-WAP520: Intensity value for Wireless Access Point (WAP). WAP will be the acronym used for rest of this notebook. Negative integer values from -104 to 0 and +100. Censored data: Positive value 100 used if WAP was not detected.\n",
        "\n",
        "Longitude: Longitude. Negative real values from -7695.9387549299299000 to -7299.786516730871000\n",
        "\n",
        "Latitude: Latitude. Positive real values from 4864745.7450159714 to 4865017.3646842018.\n",
        "\n",
        "Floor: Altitude in floors inside the building. Integer values from 0 to 4.\n",
        "\n",
        "BuildingID: ID to identify the building. Measures were taken in three different buildings. Categorical integer values from 0 to 2.\n",
        "\n",
        "SpaceID: Internal ID number to identify the Space (office, corridor, classroom) where the capture was taken. Categorical integer values.\n",
        "\n",
        "RelativePosition: Relative position with respect to the Space (1 - Inside, 2 - Outside in Front of the door). Categorical integer values.\n",
        "\n",
        "UserID: User identifier (see below). Categorical integer values.\n",
        "\n",
        "PhoneID: Android device identifier (see below). Categorical integer values.\n",
        "\n",
        "Timestamp: UNIX Time when the capture was taken. Integer value."
      ]
    },
    {
      "metadata": {
        "id": "aZhUB4Pc6AQY",
        "colab_type": "code",
        "colab": {
          "autoexec": {
            "startup": false,
            "wait_interval": 0
          },
          "base_uri": "https://localhost:8080/",
          "height": 244
        },
        "outputId": "dbaa5a99-6f20-4168-fce5-312686f21d9e",
        "executionInfo": {
          "status": "ok",
          "timestamp": 1523213868297,
          "user_tz": 240,
          "elapsed": 1655,
          "user": {
            "displayName": "Aahana Khajanchi",
            "photoUrl": "https://lh3.googleusercontent.com/a/default-user=s128",
            "userId": "111115529259210858043"
          }
        }
      },
      "cell_type": "code",
      "source": [
        "trainingData= pd.read_csv(\"trainingData.csv\")\n",
        "trainingData.head()"
      ],
      "execution_count": 7,
      "outputs": [
        {
          "output_type": "execute_result",
          "data": {
            "text/html": [
              "<div>\n",
              "<style scoped>\n",
              "    .dataframe tbody tr th:only-of-type {\n",
              "        vertical-align: middle;\n",
              "    }\n",
              "\n",
              "    .dataframe tbody tr th {\n",
              "        vertical-align: top;\n",
              "    }\n",
              "\n",
              "    .dataframe thead th {\n",
              "        text-align: right;\n",
              "    }\n",
              "</style>\n",
              "<table border=\"1\" class=\"dataframe\">\n",
              "  <thead>\n",
              "    <tr style=\"text-align: right;\">\n",
              "      <th></th>\n",
              "      <th>WAP001</th>\n",
              "      <th>WAP002</th>\n",
              "      <th>WAP003</th>\n",
              "      <th>WAP004</th>\n",
              "      <th>WAP005</th>\n",
              "      <th>WAP006</th>\n",
              "      <th>WAP007</th>\n",
              "      <th>WAP008</th>\n",
              "      <th>WAP009</th>\n",
              "      <th>WAP010</th>\n",
              "      <th>...</th>\n",
              "      <th>WAP520</th>\n",
              "      <th>LONGITUDE</th>\n",
              "      <th>LATITUDE</th>\n",
              "      <th>FLOOR</th>\n",
              "      <th>BUILDINGID</th>\n",
              "      <th>SPACEID</th>\n",
              "      <th>RELATIVEPOSITION</th>\n",
              "      <th>USERID</th>\n",
              "      <th>PHONEID</th>\n",
              "      <th>TIMESTAMP</th>\n",
              "    </tr>\n",
              "  </thead>\n",
              "  <tbody>\n",
              "    <tr>\n",
              "      <th>0</th>\n",
              "      <td>100</td>\n",
              "      <td>100</td>\n",
              "      <td>100</td>\n",
              "      <td>100</td>\n",
              "      <td>100</td>\n",
              "      <td>100</td>\n",
              "      <td>100</td>\n",
              "      <td>100</td>\n",
              "      <td>100</td>\n",
              "      <td>100</td>\n",
              "      <td>...</td>\n",
              "      <td>100</td>\n",
              "      <td>-7541.2643</td>\n",
              "      <td>4.864921e+06</td>\n",
              "      <td>2</td>\n",
              "      <td>1</td>\n",
              "      <td>106</td>\n",
              "      <td>2</td>\n",
              "      <td>2</td>\n",
              "      <td>23</td>\n",
              "      <td>1371713733</td>\n",
              "    </tr>\n",
              "    <tr>\n",
              "      <th>1</th>\n",
              "      <td>100</td>\n",
              "      <td>100</td>\n",
              "      <td>100</td>\n",
              "      <td>100</td>\n",
              "      <td>100</td>\n",
              "      <td>100</td>\n",
              "      <td>100</td>\n",
              "      <td>100</td>\n",
              "      <td>100</td>\n",
              "      <td>100</td>\n",
              "      <td>...</td>\n",
              "      <td>100</td>\n",
              "      <td>-7536.6212</td>\n",
              "      <td>4.864934e+06</td>\n",
              "      <td>2</td>\n",
              "      <td>1</td>\n",
              "      <td>106</td>\n",
              "      <td>2</td>\n",
              "      <td>2</td>\n",
              "      <td>23</td>\n",
              "      <td>1371713691</td>\n",
              "    </tr>\n",
              "    <tr>\n",
              "      <th>2</th>\n",
              "      <td>100</td>\n",
              "      <td>100</td>\n",
              "      <td>100</td>\n",
              "      <td>100</td>\n",
              "      <td>100</td>\n",
              "      <td>100</td>\n",
              "      <td>100</td>\n",
              "      <td>-97</td>\n",
              "      <td>100</td>\n",
              "      <td>100</td>\n",
              "      <td>...</td>\n",
              "      <td>100</td>\n",
              "      <td>-7519.1524</td>\n",
              "      <td>4.864950e+06</td>\n",
              "      <td>2</td>\n",
              "      <td>1</td>\n",
              "      <td>103</td>\n",
              "      <td>2</td>\n",
              "      <td>2</td>\n",
              "      <td>23</td>\n",
              "      <td>1371714095</td>\n",
              "    </tr>\n",
              "    <tr>\n",
              "      <th>3</th>\n",
              "      <td>100</td>\n",
              "      <td>100</td>\n",
              "      <td>100</td>\n",
              "      <td>100</td>\n",
              "      <td>100</td>\n",
              "      <td>100</td>\n",
              "      <td>100</td>\n",
              "      <td>100</td>\n",
              "      <td>100</td>\n",
              "      <td>100</td>\n",
              "      <td>...</td>\n",
              "      <td>100</td>\n",
              "      <td>-7524.5704</td>\n",
              "      <td>4.864934e+06</td>\n",
              "      <td>2</td>\n",
              "      <td>1</td>\n",
              "      <td>102</td>\n",
              "      <td>2</td>\n",
              "      <td>2</td>\n",
              "      <td>23</td>\n",
              "      <td>1371713807</td>\n",
              "    </tr>\n",
              "    <tr>\n",
              "      <th>4</th>\n",
              "      <td>100</td>\n",
              "      <td>100</td>\n",
              "      <td>100</td>\n",
              "      <td>100</td>\n",
              "      <td>100</td>\n",
              "      <td>100</td>\n",
              "      <td>100</td>\n",
              "      <td>100</td>\n",
              "      <td>100</td>\n",
              "      <td>100</td>\n",
              "      <td>...</td>\n",
              "      <td>100</td>\n",
              "      <td>-7632.1436</td>\n",
              "      <td>4.864982e+06</td>\n",
              "      <td>0</td>\n",
              "      <td>0</td>\n",
              "      <td>122</td>\n",
              "      <td>2</td>\n",
              "      <td>11</td>\n",
              "      <td>13</td>\n",
              "      <td>1369909710</td>\n",
              "    </tr>\n",
              "  </tbody>\n",
              "</table>\n",
              "<p>5 rows × 529 columns</p>\n",
              "</div>"
            ],
            "text/plain": [
              "   WAP001  WAP002  WAP003  WAP004  WAP005  WAP006  WAP007  WAP008  WAP009  \\\n",
              "0     100     100     100     100     100     100     100     100     100   \n",
              "1     100     100     100     100     100     100     100     100     100   \n",
              "2     100     100     100     100     100     100     100     -97     100   \n",
              "3     100     100     100     100     100     100     100     100     100   \n",
              "4     100     100     100     100     100     100     100     100     100   \n",
              "\n",
              "   WAP010     ...      WAP520  LONGITUDE      LATITUDE  FLOOR  BUILDINGID  \\\n",
              "0     100     ...         100 -7541.2643  4.864921e+06      2           1   \n",
              "1     100     ...         100 -7536.6212  4.864934e+06      2           1   \n",
              "2     100     ...         100 -7519.1524  4.864950e+06      2           1   \n",
              "3     100     ...         100 -7524.5704  4.864934e+06      2           1   \n",
              "4     100     ...         100 -7632.1436  4.864982e+06      0           0   \n",
              "\n",
              "   SPACEID  RELATIVEPOSITION  USERID  PHONEID   TIMESTAMP  \n",
              "0      106                 2       2       23  1371713733  \n",
              "1      106                 2       2       23  1371713691  \n",
              "2      103                 2       2       23  1371714095  \n",
              "3      102                 2       2       23  1371713807  \n",
              "4      122                 2      11       13  1369909710  \n",
              "\n",
              "[5 rows x 529 columns]"
            ]
          },
          "metadata": {
            "tags": []
          },
          "execution_count": 7
        }
      ]
    },
    {
      "metadata": {
        "id": "AhjXdmdcQ3VM",
        "colab_type": "code",
        "colab": {
          "autoexec": {
            "startup": false,
            "wait_interval": 0
          }
        }
      },
      "cell_type": "code",
      "source": [
        "Describe=trainingData.describe()"
      ],
      "execution_count": 0,
      "outputs": []
    },
    {
      "metadata": {
        "id": "r1js6Unn3UKa",
        "colab_type": "code",
        "colab": {
          "autoexec": {
            "startup": false,
            "wait_interval": 0
          },
          "base_uri": "https://localhost:8080/",
          "height": 333
        },
        "outputId": "e71ebdcc-0d1f-4655-db7a-2967ced7ed3b",
        "executionInfo": {
          "status": "ok",
          "timestamp": 1523213871321,
          "user_tz": 240,
          "elapsed": 345,
          "user": {
            "displayName": "Aahana Khajanchi",
            "photoUrl": "https://lh3.googleusercontent.com/a/default-user=s128",
            "userId": "111115529259210858043"
          }
        }
      },
      "cell_type": "code",
      "source": [
        "Describe=Describe.iloc[:,:520]\n",
        "Describe"
      ],
      "execution_count": 9,
      "outputs": [
        {
          "output_type": "execute_result",
          "data": {
            "text/html": [
              "<div>\n",
              "<style scoped>\n",
              "    .dataframe tbody tr th:only-of-type {\n",
              "        vertical-align: middle;\n",
              "    }\n",
              "\n",
              "    .dataframe tbody tr th {\n",
              "        vertical-align: top;\n",
              "    }\n",
              "\n",
              "    .dataframe thead th {\n",
              "        text-align: right;\n",
              "    }\n",
              "</style>\n",
              "<table border=\"1\" class=\"dataframe\">\n",
              "  <thead>\n",
              "    <tr style=\"text-align: right;\">\n",
              "      <th></th>\n",
              "      <th>WAP001</th>\n",
              "      <th>WAP002</th>\n",
              "      <th>WAP003</th>\n",
              "      <th>WAP004</th>\n",
              "      <th>WAP005</th>\n",
              "      <th>WAP006</th>\n",
              "      <th>WAP007</th>\n",
              "      <th>WAP008</th>\n",
              "      <th>WAP009</th>\n",
              "      <th>WAP010</th>\n",
              "      <th>...</th>\n",
              "      <th>WAP511</th>\n",
              "      <th>WAP512</th>\n",
              "      <th>WAP513</th>\n",
              "      <th>WAP514</th>\n",
              "      <th>WAP515</th>\n",
              "      <th>WAP516</th>\n",
              "      <th>WAP517</th>\n",
              "      <th>WAP518</th>\n",
              "      <th>WAP519</th>\n",
              "      <th>WAP520</th>\n",
              "    </tr>\n",
              "  </thead>\n",
              "  <tbody>\n",
              "    <tr>\n",
              "      <th>count</th>\n",
              "      <td>19937.000000</td>\n",
              "      <td>19937.000000</td>\n",
              "      <td>19937.0</td>\n",
              "      <td>19937.0</td>\n",
              "      <td>19937.000000</td>\n",
              "      <td>19937.000000</td>\n",
              "      <td>19937.000000</td>\n",
              "      <td>19937.000000</td>\n",
              "      <td>19937.000000</td>\n",
              "      <td>19937.000000</td>\n",
              "      <td>...</td>\n",
              "      <td>19937.000000</td>\n",
              "      <td>19937.000000</td>\n",
              "      <td>19937.000000</td>\n",
              "      <td>19937.000000</td>\n",
              "      <td>19937.000000</td>\n",
              "      <td>19937.000000</td>\n",
              "      <td>19937.000000</td>\n",
              "      <td>19937.000000</td>\n",
              "      <td>19937.000000</td>\n",
              "      <td>19937.0</td>\n",
              "    </tr>\n",
              "    <tr>\n",
              "      <th>mean</th>\n",
              "      <td>99.823644</td>\n",
              "      <td>99.820936</td>\n",
              "      <td>100.0</td>\n",
              "      <td>100.0</td>\n",
              "      <td>99.613733</td>\n",
              "      <td>97.130461</td>\n",
              "      <td>94.733661</td>\n",
              "      <td>93.820234</td>\n",
              "      <td>94.693936</td>\n",
              "      <td>99.163766</td>\n",
              "      <td>...</td>\n",
              "      <td>84.974921</td>\n",
              "      <td>99.866881</td>\n",
              "      <td>98.881276</td>\n",
              "      <td>98.833325</td>\n",
              "      <td>99.436525</td>\n",
              "      <td>73.705673</td>\n",
              "      <td>59.889803</td>\n",
              "      <td>99.788634</td>\n",
              "      <td>99.970507</td>\n",
              "      <td>100.0</td>\n",
              "    </tr>\n",
              "    <tr>\n",
              "      <th>std</th>\n",
              "      <td>5.866842</td>\n",
              "      <td>5.798156</td>\n",
              "      <td>0.0</td>\n",
              "      <td>0.0</td>\n",
              "      <td>8.615657</td>\n",
              "      <td>22.931890</td>\n",
              "      <td>30.541335</td>\n",
              "      <td>33.010404</td>\n",
              "      <td>30.305084</td>\n",
              "      <td>12.634045</td>\n",
              "      <td>...</td>\n",
              "      <td>50.099899</td>\n",
              "      <td>5.023663</td>\n",
              "      <td>14.206023</td>\n",
              "      <td>14.634613</td>\n",
              "      <td>10.259137</td>\n",
              "      <td>62.278292</td>\n",
              "      <td>74.060259</td>\n",
              "      <td>6.360671</td>\n",
              "      <td>2.404232</td>\n",
              "      <td>0.0</td>\n",
              "    </tr>\n",
              "    <tr>\n",
              "      <th>min</th>\n",
              "      <td>-97.000000</td>\n",
              "      <td>-90.000000</td>\n",
              "      <td>100.0</td>\n",
              "      <td>100.0</td>\n",
              "      <td>-97.000000</td>\n",
              "      <td>-98.000000</td>\n",
              "      <td>-99.000000</td>\n",
              "      <td>-98.000000</td>\n",
              "      <td>-98.000000</td>\n",
              "      <td>-99.000000</td>\n",
              "      <td>...</td>\n",
              "      <td>-103.000000</td>\n",
              "      <td>-97.000000</td>\n",
              "      <td>-92.000000</td>\n",
              "      <td>-90.000000</td>\n",
              "      <td>-97.000000</td>\n",
              "      <td>-101.000000</td>\n",
              "      <td>-101.000000</td>\n",
              "      <td>-97.000000</td>\n",
              "      <td>-97.000000</td>\n",
              "      <td>100.0</td>\n",
              "    </tr>\n",
              "    <tr>\n",
              "      <th>25%</th>\n",
              "      <td>100.000000</td>\n",
              "      <td>100.000000</td>\n",
              "      <td>100.0</td>\n",
              "      <td>100.0</td>\n",
              "      <td>100.000000</td>\n",
              "      <td>100.000000</td>\n",
              "      <td>100.000000</td>\n",
              "      <td>100.000000</td>\n",
              "      <td>100.000000</td>\n",
              "      <td>100.000000</td>\n",
              "      <td>...</td>\n",
              "      <td>100.000000</td>\n",
              "      <td>100.000000</td>\n",
              "      <td>100.000000</td>\n",
              "      <td>100.000000</td>\n",
              "      <td>100.000000</td>\n",
              "      <td>100.000000</td>\n",
              "      <td>100.000000</td>\n",
              "      <td>100.000000</td>\n",
              "      <td>100.000000</td>\n",
              "      <td>100.0</td>\n",
              "    </tr>\n",
              "    <tr>\n",
              "      <th>50%</th>\n",
              "      <td>100.000000</td>\n",
              "      <td>100.000000</td>\n",
              "      <td>100.0</td>\n",
              "      <td>100.0</td>\n",
              "      <td>100.000000</td>\n",
              "      <td>100.000000</td>\n",
              "      <td>100.000000</td>\n",
              "      <td>100.000000</td>\n",
              "      <td>100.000000</td>\n",
              "      <td>100.000000</td>\n",
              "      <td>...</td>\n",
              "      <td>100.000000</td>\n",
              "      <td>100.000000</td>\n",
              "      <td>100.000000</td>\n",
              "      <td>100.000000</td>\n",
              "      <td>100.000000</td>\n",
              "      <td>100.000000</td>\n",
              "      <td>100.000000</td>\n",
              "      <td>100.000000</td>\n",
              "      <td>100.000000</td>\n",
              "      <td>100.0</td>\n",
              "    </tr>\n",
              "    <tr>\n",
              "      <th>75%</th>\n",
              "      <td>100.000000</td>\n",
              "      <td>100.000000</td>\n",
              "      <td>100.0</td>\n",
              "      <td>100.0</td>\n",
              "      <td>100.000000</td>\n",
              "      <td>100.000000</td>\n",
              "      <td>100.000000</td>\n",
              "      <td>100.000000</td>\n",
              "      <td>100.000000</td>\n",
              "      <td>100.000000</td>\n",
              "      <td>...</td>\n",
              "      <td>100.000000</td>\n",
              "      <td>100.000000</td>\n",
              "      <td>100.000000</td>\n",
              "      <td>100.000000</td>\n",
              "      <td>100.000000</td>\n",
              "      <td>100.000000</td>\n",
              "      <td>100.000000</td>\n",
              "      <td>100.000000</td>\n",
              "      <td>100.000000</td>\n",
              "      <td>100.0</td>\n",
              "    </tr>\n",
              "    <tr>\n",
              "      <th>max</th>\n",
              "      <td>100.000000</td>\n",
              "      <td>100.000000</td>\n",
              "      <td>100.0</td>\n",
              "      <td>100.0</td>\n",
              "      <td>100.000000</td>\n",
              "      <td>100.000000</td>\n",
              "      <td>100.000000</td>\n",
              "      <td>100.000000</td>\n",
              "      <td>100.000000</td>\n",
              "      <td>100.000000</td>\n",
              "      <td>...</td>\n",
              "      <td>100.000000</td>\n",
              "      <td>100.000000</td>\n",
              "      <td>100.000000</td>\n",
              "      <td>100.000000</td>\n",
              "      <td>100.000000</td>\n",
              "      <td>100.000000</td>\n",
              "      <td>100.000000</td>\n",
              "      <td>100.000000</td>\n",
              "      <td>100.000000</td>\n",
              "      <td>100.0</td>\n",
              "    </tr>\n",
              "  </tbody>\n",
              "</table>\n",
              "<p>8 rows × 520 columns</p>\n",
              "</div>"
            ],
            "text/plain": [
              "             WAP001        WAP002   WAP003   WAP004        WAP005  \\\n",
              "count  19937.000000  19937.000000  19937.0  19937.0  19937.000000   \n",
              "mean      99.823644     99.820936    100.0    100.0     99.613733   \n",
              "std        5.866842      5.798156      0.0      0.0      8.615657   \n",
              "min      -97.000000    -90.000000    100.0    100.0    -97.000000   \n",
              "25%      100.000000    100.000000    100.0    100.0    100.000000   \n",
              "50%      100.000000    100.000000    100.0    100.0    100.000000   \n",
              "75%      100.000000    100.000000    100.0    100.0    100.000000   \n",
              "max      100.000000    100.000000    100.0    100.0    100.000000   \n",
              "\n",
              "             WAP006        WAP007        WAP008        WAP009        WAP010  \\\n",
              "count  19937.000000  19937.000000  19937.000000  19937.000000  19937.000000   \n",
              "mean      97.130461     94.733661     93.820234     94.693936     99.163766   \n",
              "std       22.931890     30.541335     33.010404     30.305084     12.634045   \n",
              "min      -98.000000    -99.000000    -98.000000    -98.000000    -99.000000   \n",
              "25%      100.000000    100.000000    100.000000    100.000000    100.000000   \n",
              "50%      100.000000    100.000000    100.000000    100.000000    100.000000   \n",
              "75%      100.000000    100.000000    100.000000    100.000000    100.000000   \n",
              "max      100.000000    100.000000    100.000000    100.000000    100.000000   \n",
              "\n",
              "        ...           WAP511        WAP512        WAP513        WAP514  \\\n",
              "count   ...     19937.000000  19937.000000  19937.000000  19937.000000   \n",
              "mean    ...        84.974921     99.866881     98.881276     98.833325   \n",
              "std     ...        50.099899      5.023663     14.206023     14.634613   \n",
              "min     ...      -103.000000    -97.000000    -92.000000    -90.000000   \n",
              "25%     ...       100.000000    100.000000    100.000000    100.000000   \n",
              "50%     ...       100.000000    100.000000    100.000000    100.000000   \n",
              "75%     ...       100.000000    100.000000    100.000000    100.000000   \n",
              "max     ...       100.000000    100.000000    100.000000    100.000000   \n",
              "\n",
              "             WAP515        WAP516        WAP517        WAP518        WAP519  \\\n",
              "count  19937.000000  19937.000000  19937.000000  19937.000000  19937.000000   \n",
              "mean      99.436525     73.705673     59.889803     99.788634     99.970507   \n",
              "std       10.259137     62.278292     74.060259      6.360671      2.404232   \n",
              "min      -97.000000   -101.000000   -101.000000    -97.000000    -97.000000   \n",
              "25%      100.000000    100.000000    100.000000    100.000000    100.000000   \n",
              "50%      100.000000    100.000000    100.000000    100.000000    100.000000   \n",
              "75%      100.000000    100.000000    100.000000    100.000000    100.000000   \n",
              "max      100.000000    100.000000    100.000000    100.000000    100.000000   \n",
              "\n",
              "        WAP520  \n",
              "count  19937.0  \n",
              "mean     100.0  \n",
              "std        0.0  \n",
              "min      100.0  \n",
              "25%      100.0  \n",
              "50%      100.0  \n",
              "75%      100.0  \n",
              "max      100.0  \n",
              "\n",
              "[8 rows x 520 columns]"
            ]
          },
          "metadata": {
            "tags": []
          },
          "execution_count": 9
        }
      ]
    },
    {
      "metadata": {
        "id": "63Ons1U-3ug4",
        "colab_type": "code",
        "colab": {
          "autoexec": {
            "startup": false,
            "wait_interval": 0
          }
        }
      },
      "cell_type": "code",
      "source": [
        "Describe1=Describe.iloc[3:4,:520]"
      ],
      "execution_count": 0,
      "outputs": []
    },
    {
      "metadata": {
        "id": "g8NpdMJBMmD3",
        "colab_type": "code",
        "colab": {
          "autoexec": {
            "startup": false,
            "wait_interval": 0
          },
          "base_uri": "https://localhost:8080/",
          "height": 244
        },
        "outputId": "4d01f8ce-22d2-4ceb-f442-fd8e50f5024b",
        "executionInfo": {
          "status": "ok",
          "timestamp": 1523213872366,
          "user_tz": 240,
          "elapsed": 357,
          "user": {
            "displayName": "Aahana Khajanchi",
            "photoUrl": "https://lh3.googleusercontent.com/a/default-user=s128",
            "userId": "111115529259210858043"
          }
        }
      },
      "cell_type": "code",
      "source": [
        "testingData = pd.read_csv(\"validationData.csv\")\n",
        "testingData.head()"
      ],
      "execution_count": 11,
      "outputs": [
        {
          "output_type": "execute_result",
          "data": {
            "text/html": [
              "<div>\n",
              "<style scoped>\n",
              "    .dataframe tbody tr th:only-of-type {\n",
              "        vertical-align: middle;\n",
              "    }\n",
              "\n",
              "    .dataframe tbody tr th {\n",
              "        vertical-align: top;\n",
              "    }\n",
              "\n",
              "    .dataframe thead th {\n",
              "        text-align: right;\n",
              "    }\n",
              "</style>\n",
              "<table border=\"1\" class=\"dataframe\">\n",
              "  <thead>\n",
              "    <tr style=\"text-align: right;\">\n",
              "      <th></th>\n",
              "      <th>WAP001</th>\n",
              "      <th>WAP002</th>\n",
              "      <th>WAP003</th>\n",
              "      <th>WAP004</th>\n",
              "      <th>WAP005</th>\n",
              "      <th>WAP006</th>\n",
              "      <th>WAP007</th>\n",
              "      <th>WAP008</th>\n",
              "      <th>WAP009</th>\n",
              "      <th>WAP010</th>\n",
              "      <th>...</th>\n",
              "      <th>WAP520</th>\n",
              "      <th>LONGITUDE</th>\n",
              "      <th>LATITUDE</th>\n",
              "      <th>FLOOR</th>\n",
              "      <th>BUILDINGID</th>\n",
              "      <th>SPACEID</th>\n",
              "      <th>RELATIVEPOSITION</th>\n",
              "      <th>USERID</th>\n",
              "      <th>PHONEID</th>\n",
              "      <th>TIMESTAMP</th>\n",
              "    </tr>\n",
              "  </thead>\n",
              "  <tbody>\n",
              "    <tr>\n",
              "      <th>0</th>\n",
              "      <td>100</td>\n",
              "      <td>100</td>\n",
              "      <td>100</td>\n",
              "      <td>100</td>\n",
              "      <td>100</td>\n",
              "      <td>100</td>\n",
              "      <td>100</td>\n",
              "      <td>100</td>\n",
              "      <td>100</td>\n",
              "      <td>100</td>\n",
              "      <td>...</td>\n",
              "      <td>100</td>\n",
              "      <td>-7515.916799</td>\n",
              "      <td>4.864890e+06</td>\n",
              "      <td>1</td>\n",
              "      <td>1</td>\n",
              "      <td>0</td>\n",
              "      <td>0</td>\n",
              "      <td>0</td>\n",
              "      <td>0</td>\n",
              "      <td>1380872703</td>\n",
              "    </tr>\n",
              "    <tr>\n",
              "      <th>1</th>\n",
              "      <td>100</td>\n",
              "      <td>100</td>\n",
              "      <td>100</td>\n",
              "      <td>100</td>\n",
              "      <td>100</td>\n",
              "      <td>100</td>\n",
              "      <td>100</td>\n",
              "      <td>100</td>\n",
              "      <td>100</td>\n",
              "      <td>100</td>\n",
              "      <td>...</td>\n",
              "      <td>100</td>\n",
              "      <td>-7383.867221</td>\n",
              "      <td>4.864840e+06</td>\n",
              "      <td>4</td>\n",
              "      <td>2</td>\n",
              "      <td>0</td>\n",
              "      <td>0</td>\n",
              "      <td>0</td>\n",
              "      <td>13</td>\n",
              "      <td>1381155054</td>\n",
              "    </tr>\n",
              "    <tr>\n",
              "      <th>2</th>\n",
              "      <td>100</td>\n",
              "      <td>100</td>\n",
              "      <td>100</td>\n",
              "      <td>100</td>\n",
              "      <td>100</td>\n",
              "      <td>100</td>\n",
              "      <td>100</td>\n",
              "      <td>100</td>\n",
              "      <td>100</td>\n",
              "      <td>100</td>\n",
              "      <td>...</td>\n",
              "      <td>100</td>\n",
              "      <td>-7374.302080</td>\n",
              "      <td>4.864847e+06</td>\n",
              "      <td>4</td>\n",
              "      <td>2</td>\n",
              "      <td>0</td>\n",
              "      <td>0</td>\n",
              "      <td>0</td>\n",
              "      <td>13</td>\n",
              "      <td>1381155095</td>\n",
              "    </tr>\n",
              "    <tr>\n",
              "      <th>3</th>\n",
              "      <td>100</td>\n",
              "      <td>100</td>\n",
              "      <td>100</td>\n",
              "      <td>100</td>\n",
              "      <td>100</td>\n",
              "      <td>100</td>\n",
              "      <td>100</td>\n",
              "      <td>100</td>\n",
              "      <td>100</td>\n",
              "      <td>100</td>\n",
              "      <td>...</td>\n",
              "      <td>100</td>\n",
              "      <td>-7365.824883</td>\n",
              "      <td>4.864843e+06</td>\n",
              "      <td>4</td>\n",
              "      <td>2</td>\n",
              "      <td>0</td>\n",
              "      <td>0</td>\n",
              "      <td>0</td>\n",
              "      <td>13</td>\n",
              "      <td>1381155138</td>\n",
              "    </tr>\n",
              "    <tr>\n",
              "      <th>4</th>\n",
              "      <td>100</td>\n",
              "      <td>100</td>\n",
              "      <td>100</td>\n",
              "      <td>100</td>\n",
              "      <td>100</td>\n",
              "      <td>100</td>\n",
              "      <td>100</td>\n",
              "      <td>100</td>\n",
              "      <td>100</td>\n",
              "      <td>100</td>\n",
              "      <td>...</td>\n",
              "      <td>100</td>\n",
              "      <td>-7641.499303</td>\n",
              "      <td>4.864922e+06</td>\n",
              "      <td>2</td>\n",
              "      <td>0</td>\n",
              "      <td>0</td>\n",
              "      <td>0</td>\n",
              "      <td>0</td>\n",
              "      <td>2</td>\n",
              "      <td>1380877774</td>\n",
              "    </tr>\n",
              "  </tbody>\n",
              "</table>\n",
              "<p>5 rows × 529 columns</p>\n",
              "</div>"
            ],
            "text/plain": [
              "   WAP001  WAP002  WAP003  WAP004  WAP005  WAP006  WAP007  WAP008  WAP009  \\\n",
              "0     100     100     100     100     100     100     100     100     100   \n",
              "1     100     100     100     100     100     100     100     100     100   \n",
              "2     100     100     100     100     100     100     100     100     100   \n",
              "3     100     100     100     100     100     100     100     100     100   \n",
              "4     100     100     100     100     100     100     100     100     100   \n",
              "\n",
              "   WAP010     ...      WAP520    LONGITUDE      LATITUDE  FLOOR  BUILDINGID  \\\n",
              "0     100     ...         100 -7515.916799  4.864890e+06      1           1   \n",
              "1     100     ...         100 -7383.867221  4.864840e+06      4           2   \n",
              "2     100     ...         100 -7374.302080  4.864847e+06      4           2   \n",
              "3     100     ...         100 -7365.824883  4.864843e+06      4           2   \n",
              "4     100     ...         100 -7641.499303  4.864922e+06      2           0   \n",
              "\n",
              "   SPACEID  RELATIVEPOSITION  USERID  PHONEID   TIMESTAMP  \n",
              "0        0                 0       0        0  1380872703  \n",
              "1        0                 0       0       13  1381155054  \n",
              "2        0                 0       0       13  1381155095  \n",
              "3        0                 0       0       13  1381155138  \n",
              "4        0                 0       0        2  1380877774  \n",
              "\n",
              "[5 rows x 529 columns]"
            ]
          },
          "metadata": {
            "tags": []
          },
          "execution_count": 11
        }
      ]
    },
    {
      "metadata": {
        "id": "nvmRVJ-NN1Er",
        "colab_type": "code",
        "colab": {
          "autoexec": {
            "startup": false,
            "wait_interval": 0
          },
          "base_uri": "https://localhost:8080/",
          "height": 333
        },
        "outputId": "c3bc7c5b-13da-444c-e9ce-440a79a0af56",
        "executionInfo": {
          "status": "ok",
          "timestamp": 1523213874136,
          "user_tz": 240,
          "elapsed": 1153,
          "user": {
            "displayName": "Aahana Khajanchi",
            "photoUrl": "https://lh3.googleusercontent.com/a/default-user=s128",
            "userId": "111115529259210858043"
          }
        }
      },
      "cell_type": "code",
      "source": [
        "testingData.describe()"
      ],
      "execution_count": 12,
      "outputs": [
        {
          "output_type": "execute_result",
          "data": {
            "text/html": [
              "<div>\n",
              "<style scoped>\n",
              "    .dataframe tbody tr th:only-of-type {\n",
              "        vertical-align: middle;\n",
              "    }\n",
              "\n",
              "    .dataframe tbody tr th {\n",
              "        vertical-align: top;\n",
              "    }\n",
              "\n",
              "    .dataframe thead th {\n",
              "        text-align: right;\n",
              "    }\n",
              "</style>\n",
              "<table border=\"1\" class=\"dataframe\">\n",
              "  <thead>\n",
              "    <tr style=\"text-align: right;\">\n",
              "      <th></th>\n",
              "      <th>WAP001</th>\n",
              "      <th>WAP002</th>\n",
              "      <th>WAP003</th>\n",
              "      <th>WAP004</th>\n",
              "      <th>WAP005</th>\n",
              "      <th>WAP006</th>\n",
              "      <th>WAP007</th>\n",
              "      <th>WAP008</th>\n",
              "      <th>WAP009</th>\n",
              "      <th>WAP010</th>\n",
              "      <th>...</th>\n",
              "      <th>WAP520</th>\n",
              "      <th>LONGITUDE</th>\n",
              "      <th>LATITUDE</th>\n",
              "      <th>FLOOR</th>\n",
              "      <th>BUILDINGID</th>\n",
              "      <th>SPACEID</th>\n",
              "      <th>RELATIVEPOSITION</th>\n",
              "      <th>USERID</th>\n",
              "      <th>PHONEID</th>\n",
              "      <th>TIMESTAMP</th>\n",
              "    </tr>\n",
              "  </thead>\n",
              "  <tbody>\n",
              "    <tr>\n",
              "      <th>count</th>\n",
              "      <td>1111.000000</td>\n",
              "      <td>1111.0</td>\n",
              "      <td>1111.000000</td>\n",
              "      <td>1111.000000</td>\n",
              "      <td>1111.0</td>\n",
              "      <td>1111.0</td>\n",
              "      <td>1111.0</td>\n",
              "      <td>1111.000000</td>\n",
              "      <td>1111.000000</td>\n",
              "      <td>1111.000000</td>\n",
              "      <td>...</td>\n",
              "      <td>1111.000000</td>\n",
              "      <td>1111.000000</td>\n",
              "      <td>1.111000e+03</td>\n",
              "      <td>1111.000000</td>\n",
              "      <td>1111.000000</td>\n",
              "      <td>1111.0</td>\n",
              "      <td>1111.0</td>\n",
              "      <td>1111.0</td>\n",
              "      <td>1111.000000</td>\n",
              "      <td>1.111000e+03</td>\n",
              "    </tr>\n",
              "    <tr>\n",
              "      <th>mean</th>\n",
              "      <td>98.627363</td>\n",
              "      <td>100.0</td>\n",
              "      <td>99.665167</td>\n",
              "      <td>99.665167</td>\n",
              "      <td>100.0</td>\n",
              "      <td>100.0</td>\n",
              "      <td>100.0</td>\n",
              "      <td>94.297030</td>\n",
              "      <td>90.655266</td>\n",
              "      <td>98.811881</td>\n",
              "      <td>...</td>\n",
              "      <td>99.843384</td>\n",
              "      <td>-7529.197448</td>\n",
              "      <td>4.864902e+06</td>\n",
              "      <td>1.571557</td>\n",
              "      <td>0.758776</td>\n",
              "      <td>0.0</td>\n",
              "      <td>0.0</td>\n",
              "      <td>0.0</td>\n",
              "      <td>11.923492</td>\n",
              "      <td>1.380604e+09</td>\n",
              "    </tr>\n",
              "    <tr>\n",
              "      <th>std</th>\n",
              "      <td>16.127245</td>\n",
              "      <td>0.0</td>\n",
              "      <td>7.888265</td>\n",
              "      <td>7.888607</td>\n",
              "      <td>0.0</td>\n",
              "      <td>0.0</td>\n",
              "      <td>0.0</td>\n",
              "      <td>32.148809</td>\n",
              "      <td>39.886991</td>\n",
              "      <td>14.931667</td>\n",
              "      <td>...</td>\n",
              "      <td>5.220261</td>\n",
              "      <td>120.209336</td>\n",
              "      <td>7.027280e+01</td>\n",
              "      <td>1.001828</td>\n",
              "      <td>0.816139</td>\n",
              "      <td>0.0</td>\n",
              "      <td>0.0</td>\n",
              "      <td>0.0</td>\n",
              "      <td>6.556236</td>\n",
              "      <td>5.003222e+05</td>\n",
              "    </tr>\n",
              "    <tr>\n",
              "      <th>min</th>\n",
              "      <td>-94.000000</td>\n",
              "      <td>100.0</td>\n",
              "      <td>-87.000000</td>\n",
              "      <td>-88.000000</td>\n",
              "      <td>100.0</td>\n",
              "      <td>100.0</td>\n",
              "      <td>100.0</td>\n",
              "      <td>-99.000000</td>\n",
              "      <td>-96.000000</td>\n",
              "      <td>-98.000000</td>\n",
              "      <td>...</td>\n",
              "      <td>-74.000000</td>\n",
              "      <td>-7695.938755</td>\n",
              "      <td>4.864748e+06</td>\n",
              "      <td>0.000000</td>\n",
              "      <td>0.000000</td>\n",
              "      <td>0.0</td>\n",
              "      <td>0.0</td>\n",
              "      <td>0.0</td>\n",
              "      <td>0.000000</td>\n",
              "      <td>1.379578e+09</td>\n",
              "    </tr>\n",
              "    <tr>\n",
              "      <th>25%</th>\n",
              "      <td>100.000000</td>\n",
              "      <td>100.0</td>\n",
              "      <td>100.000000</td>\n",
              "      <td>100.000000</td>\n",
              "      <td>100.0</td>\n",
              "      <td>100.0</td>\n",
              "      <td>100.0</td>\n",
              "      <td>100.000000</td>\n",
              "      <td>100.000000</td>\n",
              "      <td>100.000000</td>\n",
              "      <td>...</td>\n",
              "      <td>100.000000</td>\n",
              "      <td>-7637.423800</td>\n",
              "      <td>4.864843e+06</td>\n",
              "      <td>1.000000</td>\n",
              "      <td>0.000000</td>\n",
              "      <td>0.0</td>\n",
              "      <td>0.0</td>\n",
              "      <td>0.0</td>\n",
              "      <td>9.000000</td>\n",
              "      <td>1.380189e+09</td>\n",
              "    </tr>\n",
              "    <tr>\n",
              "      <th>50%</th>\n",
              "      <td>100.000000</td>\n",
              "      <td>100.0</td>\n",
              "      <td>100.000000</td>\n",
              "      <td>100.000000</td>\n",
              "      <td>100.0</td>\n",
              "      <td>100.0</td>\n",
              "      <td>100.0</td>\n",
              "      <td>100.000000</td>\n",
              "      <td>100.000000</td>\n",
              "      <td>100.000000</td>\n",
              "      <td>...</td>\n",
              "      <td>100.000000</td>\n",
              "      <td>-7560.376300</td>\n",
              "      <td>4.864915e+06</td>\n",
              "      <td>1.000000</td>\n",
              "      <td>1.000000</td>\n",
              "      <td>0.0</td>\n",
              "      <td>0.0</td>\n",
              "      <td>0.0</td>\n",
              "      <td>13.000000</td>\n",
              "      <td>1.380873e+09</td>\n",
              "    </tr>\n",
              "    <tr>\n",
              "      <th>75%</th>\n",
              "      <td>100.000000</td>\n",
              "      <td>100.0</td>\n",
              "      <td>100.000000</td>\n",
              "      <td>100.000000</td>\n",
              "      <td>100.0</td>\n",
              "      <td>100.0</td>\n",
              "      <td>100.0</td>\n",
              "      <td>100.000000</td>\n",
              "      <td>100.000000</td>\n",
              "      <td>100.000000</td>\n",
              "      <td>...</td>\n",
              "      <td>100.000000</td>\n",
              "      <td>-7420.539659</td>\n",
              "      <td>4.864967e+06</td>\n",
              "      <td>2.000000</td>\n",
              "      <td>1.000000</td>\n",
              "      <td>0.0</td>\n",
              "      <td>0.0</td>\n",
              "      <td>0.0</td>\n",
              "      <td>15.000000</td>\n",
              "      <td>1.380875e+09</td>\n",
              "    </tr>\n",
              "    <tr>\n",
              "      <th>max</th>\n",
              "      <td>100.000000</td>\n",
              "      <td>100.0</td>\n",
              "      <td>100.000000</td>\n",
              "      <td>100.000000</td>\n",
              "      <td>100.0</td>\n",
              "      <td>100.0</td>\n",
              "      <td>100.0</td>\n",
              "      <td>100.000000</td>\n",
              "      <td>100.000000</td>\n",
              "      <td>100.000000</td>\n",
              "      <td>...</td>\n",
              "      <td>100.000000</td>\n",
              "      <td>-7299.786517</td>\n",
              "      <td>4.865017e+06</td>\n",
              "      <td>4.000000</td>\n",
              "      <td>2.000000</td>\n",
              "      <td>0.0</td>\n",
              "      <td>0.0</td>\n",
              "      <td>0.0</td>\n",
              "      <td>21.000000</td>\n",
              "      <td>1.381248e+09</td>\n",
              "    </tr>\n",
              "  </tbody>\n",
              "</table>\n",
              "<p>8 rows × 529 columns</p>\n",
              "</div>"
            ],
            "text/plain": [
              "            WAP001  WAP002       WAP003       WAP004  WAP005  WAP006  WAP007  \\\n",
              "count  1111.000000  1111.0  1111.000000  1111.000000  1111.0  1111.0  1111.0   \n",
              "mean     98.627363   100.0    99.665167    99.665167   100.0   100.0   100.0   \n",
              "std      16.127245     0.0     7.888265     7.888607     0.0     0.0     0.0   \n",
              "min     -94.000000   100.0   -87.000000   -88.000000   100.0   100.0   100.0   \n",
              "25%     100.000000   100.0   100.000000   100.000000   100.0   100.0   100.0   \n",
              "50%     100.000000   100.0   100.000000   100.000000   100.0   100.0   100.0   \n",
              "75%     100.000000   100.0   100.000000   100.000000   100.0   100.0   100.0   \n",
              "max     100.000000   100.0   100.000000   100.000000   100.0   100.0   100.0   \n",
              "\n",
              "            WAP008       WAP009       WAP010      ...            WAP520  \\\n",
              "count  1111.000000  1111.000000  1111.000000      ...       1111.000000   \n",
              "mean     94.297030    90.655266    98.811881      ...         99.843384   \n",
              "std      32.148809    39.886991    14.931667      ...          5.220261   \n",
              "min     -99.000000   -96.000000   -98.000000      ...        -74.000000   \n",
              "25%     100.000000   100.000000   100.000000      ...        100.000000   \n",
              "50%     100.000000   100.000000   100.000000      ...        100.000000   \n",
              "75%     100.000000   100.000000   100.000000      ...        100.000000   \n",
              "max     100.000000   100.000000   100.000000      ...        100.000000   \n",
              "\n",
              "         LONGITUDE      LATITUDE        FLOOR   BUILDINGID  SPACEID  \\\n",
              "count  1111.000000  1.111000e+03  1111.000000  1111.000000   1111.0   \n",
              "mean  -7529.197448  4.864902e+06     1.571557     0.758776      0.0   \n",
              "std     120.209336  7.027280e+01     1.001828     0.816139      0.0   \n",
              "min   -7695.938755  4.864748e+06     0.000000     0.000000      0.0   \n",
              "25%   -7637.423800  4.864843e+06     1.000000     0.000000      0.0   \n",
              "50%   -7560.376300  4.864915e+06     1.000000     1.000000      0.0   \n",
              "75%   -7420.539659  4.864967e+06     2.000000     1.000000      0.0   \n",
              "max   -7299.786517  4.865017e+06     4.000000     2.000000      0.0   \n",
              "\n",
              "       RELATIVEPOSITION  USERID      PHONEID     TIMESTAMP  \n",
              "count            1111.0  1111.0  1111.000000  1.111000e+03  \n",
              "mean                0.0     0.0    11.923492  1.380604e+09  \n",
              "std                 0.0     0.0     6.556236  5.003222e+05  \n",
              "min                 0.0     0.0     0.000000  1.379578e+09  \n",
              "25%                 0.0     0.0     9.000000  1.380189e+09  \n",
              "50%                 0.0     0.0    13.000000  1.380873e+09  \n",
              "75%                 0.0     0.0    15.000000  1.380875e+09  \n",
              "max                 0.0     0.0    21.000000  1.381248e+09  \n",
              "\n",
              "[8 rows x 529 columns]"
            ]
          },
          "metadata": {
            "tags": []
          },
          "execution_count": 12
        }
      ]
    },
    {
      "metadata": {
        "id": "f9iNOGEnlYtL",
        "colab_type": "code",
        "colab": {
          "autoexec": {
            "startup": false,
            "wait_interval": 0
          },
          "base_uri": "https://localhost:8080/",
          "height": 336
        },
        "outputId": "e37f5e8d-7b6f-4bb6-abd8-9d4bf22e8d2d",
        "executionInfo": {
          "status": "ok",
          "timestamp": 1523213881400,
          "user_tz": 240,
          "elapsed": 574,
          "user": {
            "displayName": "Aahana Khajanchi",
            "photoUrl": "https://lh3.googleusercontent.com/a/default-user=s128",
            "userId": "111115529259210858043"
          }
        }
      },
      "cell_type": "code",
      "source": [
        "trainingData['USERID'].value_counts()"
      ],
      "execution_count": 13,
      "outputs": [
        {
          "output_type": "execute_result",
          "data": {
            "text/plain": [
              "11    4516\n",
              "1     2737\n",
              "14    1596\n",
              "7     1383\n",
              "2     1091\n",
              "9     1066\n",
              "16    1032\n",
              "6      980\n",
              "10     913\n",
              "13     841\n",
              "17     724\n",
              "5      610\n",
              "8      507\n",
              "15     498\n",
              "18     440\n",
              "12     437\n",
              "4      374\n",
              "3      192\n",
              "Name: USERID, dtype: int64"
            ]
          },
          "metadata": {
            "tags": []
          },
          "execution_count": 13
        }
      ]
    },
    {
      "metadata": {
        "id": "q_XDZQ7_SF3P",
        "colab_type": "code",
        "colab": {
          "autoexec": {
            "startup": false,
            "wait_interval": 0
          }
        }
      },
      "cell_type": "code",
      "source": [
        "df = trainingData.copy()"
      ],
      "execution_count": 0,
      "outputs": []
    },
    {
      "metadata": {
        "id": "0TC4-BOiTtdP",
        "colab_type": "code",
        "colab": {
          "autoexec": {
            "startup": false,
            "wait_interval": 0
          },
          "base_uri": "https://localhost:8080/",
          "height": 34
        },
        "outputId": "97d387b9-403b-43c9-e4dd-5027b8438d7c",
        "executionInfo": {
          "status": "ok",
          "timestamp": 1523213883427,
          "user_tz": 240,
          "elapsed": 346,
          "user": {
            "displayName": "Aahana Khajanchi",
            "photoUrl": "https://lh3.googleusercontent.com/a/default-user=s128",
            "userId": "111115529259210858043"
          }
        }
      },
      "cell_type": "code",
      "source": [
        "trainingData.shape"
      ],
      "execution_count": 15,
      "outputs": [
        {
          "output_type": "execute_result",
          "data": {
            "text/plain": [
              "(19937, 529)"
            ]
          },
          "metadata": {
            "tags": []
          },
          "execution_count": 15
        }
      ]
    },
    {
      "metadata": {
        "id": "RUzB7kdWXMXX",
        "colab_type": "code",
        "colab": {
          "autoexec": {
            "startup": false,
            "wait_interval": 0
          }
        }
      },
      "cell_type": "code",
      "source": [
        "X_train = trainingData.iloc[:,:520]\n",
        "X_test = testingData.iloc[:,:520]\n",
        "\n",
        "y_train = trainingData.iloc[:,520:526]\n",
        "y_test = testingData.iloc[:,520:526]"
      ],
      "execution_count": 0,
      "outputs": []
    },
    {
      "metadata": {
        "id": "4HmBNnIqHjmE",
        "colab_type": "code",
        "colab": {
          "autoexec": {
            "startup": false,
            "wait_interval": 0
          },
          "base_uri": "https://localhost:8080/",
          "height": 34
        },
        "outputId": "49511c72-67d7-4a6f-93db-3fc9ec8f7b88",
        "executionInfo": {
          "status": "ok",
          "timestamp": 1523213891534,
          "user_tz": 240,
          "elapsed": 481,
          "user": {
            "displayName": "Aahana Khajanchi",
            "photoUrl": "https://lh3.googleusercontent.com/a/default-user=s128",
            "userId": "111115529259210858043"
          }
        }
      },
      "cell_type": "code",
      "source": [
        "X_train.shape"
      ],
      "execution_count": 17,
      "outputs": [
        {
          "output_type": "execute_result",
          "data": {
            "text/plain": [
              "(19937, 520)"
            ]
          },
          "metadata": {
            "tags": []
          },
          "execution_count": 17
        }
      ]
    },
    {
      "metadata": {
        "id": "QQ0S_tOvz1Qm",
        "colab_type": "code",
        "colab": {
          "autoexec": {
            "startup": false,
            "wait_interval": 0
          },
          "base_uri": "https://localhost:8080/",
          "height": 166
        },
        "outputId": "c65a31f4-483d-4d59-da55-a349f5bff9e3",
        "executionInfo": {
          "status": "ok",
          "timestamp": 1523213895688,
          "user_tz": 240,
          "elapsed": 549,
          "user": {
            "displayName": "Aahana Khajanchi",
            "photoUrl": "https://lh3.googleusercontent.com/a/default-user=s128",
            "userId": "111115529259210858043"
          }
        }
      },
      "cell_type": "code",
      "source": [
        "\n",
        "# Response variables in our problem are Building, Floor, Latitude, Longitude and Relative Position\n",
        "(trainingData[['FLOOR','BUILDINGID', 'SPACEID','RELATIVEPOSITION','USERID','PHONEID']]\n",
        ".astype(str)\n",
        ".describe(include=['object']))"
      ],
      "execution_count": 18,
      "outputs": [
        {
          "output_type": "execute_result",
          "data": {
            "text/html": [
              "<div>\n",
              "<style scoped>\n",
              "    .dataframe tbody tr th:only-of-type {\n",
              "        vertical-align: middle;\n",
              "    }\n",
              "\n",
              "    .dataframe tbody tr th {\n",
              "        vertical-align: top;\n",
              "    }\n",
              "\n",
              "    .dataframe thead th {\n",
              "        text-align: right;\n",
              "    }\n",
              "</style>\n",
              "<table border=\"1\" class=\"dataframe\">\n",
              "  <thead>\n",
              "    <tr style=\"text-align: right;\">\n",
              "      <th></th>\n",
              "      <th>FLOOR</th>\n",
              "      <th>BUILDINGID</th>\n",
              "      <th>SPACEID</th>\n",
              "      <th>RELATIVEPOSITION</th>\n",
              "      <th>USERID</th>\n",
              "      <th>PHONEID</th>\n",
              "    </tr>\n",
              "  </thead>\n",
              "  <tbody>\n",
              "    <tr>\n",
              "      <th>count</th>\n",
              "      <td>19937</td>\n",
              "      <td>19937</td>\n",
              "      <td>19937</td>\n",
              "      <td>19937</td>\n",
              "      <td>19937</td>\n",
              "      <td>19937</td>\n",
              "    </tr>\n",
              "    <tr>\n",
              "      <th>unique</th>\n",
              "      <td>5</td>\n",
              "      <td>3</td>\n",
              "      <td>123</td>\n",
              "      <td>2</td>\n",
              "      <td>18</td>\n",
              "      <td>16</td>\n",
              "    </tr>\n",
              "    <tr>\n",
              "      <th>top</th>\n",
              "      <td>3</td>\n",
              "      <td>2</td>\n",
              "      <td>202</td>\n",
              "      <td>2</td>\n",
              "      <td>11</td>\n",
              "      <td>14</td>\n",
              "    </tr>\n",
              "    <tr>\n",
              "      <th>freq</th>\n",
              "      <td>5048</td>\n",
              "      <td>9492</td>\n",
              "      <td>484</td>\n",
              "      <td>16608</td>\n",
              "      <td>4516</td>\n",
              "      <td>4835</td>\n",
              "    </tr>\n",
              "  </tbody>\n",
              "</table>\n",
              "</div>"
            ],
            "text/plain": [
              "        FLOOR BUILDINGID SPACEID RELATIVEPOSITION USERID PHONEID\n",
              "count   19937      19937   19937            19937  19937   19937\n",
              "unique      5          3     123                2     18      16\n",
              "top         3          2     202                2     11      14\n",
              "freq     5048       9492     484            16608   4516    4835"
            ]
          },
          "metadata": {
            "tags": []
          },
          "execution_count": 18
        }
      ]
    },
    {
      "metadata": {
        "id": "ol_U5UMzn-Dw",
        "colab_type": "code",
        "colab": {
          "autoexec": {
            "startup": false,
            "wait_interval": 0
          },
          "base_uri": "https://localhost:8080/",
          "height": 215
        },
        "outputId": "c8d8c0f0-ed47-47e0-b015-ede50153ae56",
        "executionInfo": {
          "status": "ok",
          "timestamp": 1523213933766,
          "user_tz": 240,
          "elapsed": 12879,
          "user": {
            "displayName": "Aahana Khajanchi",
            "photoUrl": "https://lh3.googleusercontent.com/a/default-user=s128",
            "userId": "111115529259210858043"
          }
        }
      },
      "cell_type": "code",
      "source": [
        "(trainingData\n",
        ".astype(str)\n",
        ".describe(include=['object']))"
      ],
      "execution_count": 19,
      "outputs": [
        {
          "output_type": "execute_result",
          "data": {
            "text/html": [
              "<div>\n",
              "<style scoped>\n",
              "    .dataframe tbody tr th:only-of-type {\n",
              "        vertical-align: middle;\n",
              "    }\n",
              "\n",
              "    .dataframe tbody tr th {\n",
              "        vertical-align: top;\n",
              "    }\n",
              "\n",
              "    .dataframe thead th {\n",
              "        text-align: right;\n",
              "    }\n",
              "</style>\n",
              "<table border=\"1\" class=\"dataframe\">\n",
              "  <thead>\n",
              "    <tr style=\"text-align: right;\">\n",
              "      <th></th>\n",
              "      <th>WAP001</th>\n",
              "      <th>WAP002</th>\n",
              "      <th>WAP003</th>\n",
              "      <th>WAP004</th>\n",
              "      <th>WAP005</th>\n",
              "      <th>WAP006</th>\n",
              "      <th>WAP007</th>\n",
              "      <th>WAP008</th>\n",
              "      <th>WAP009</th>\n",
              "      <th>WAP010</th>\n",
              "      <th>...</th>\n",
              "      <th>WAP520</th>\n",
              "      <th>LONGITUDE</th>\n",
              "      <th>LATITUDE</th>\n",
              "      <th>FLOOR</th>\n",
              "      <th>BUILDINGID</th>\n",
              "      <th>SPACEID</th>\n",
              "      <th>RELATIVEPOSITION</th>\n",
              "      <th>USERID</th>\n",
              "      <th>PHONEID</th>\n",
              "      <th>TIMESTAMP</th>\n",
              "    </tr>\n",
              "  </thead>\n",
              "  <tbody>\n",
              "    <tr>\n",
              "      <th>count</th>\n",
              "      <td>19937</td>\n",
              "      <td>19937</td>\n",
              "      <td>19937</td>\n",
              "      <td>19937</td>\n",
              "      <td>19937</td>\n",
              "      <td>19937</td>\n",
              "      <td>19937</td>\n",
              "      <td>19937</td>\n",
              "      <td>19937</td>\n",
              "      <td>19937</td>\n",
              "      <td>...</td>\n",
              "      <td>19937</td>\n",
              "      <td>19937</td>\n",
              "      <td>19937</td>\n",
              "      <td>19937</td>\n",
              "      <td>19937</td>\n",
              "      <td>19937</td>\n",
              "      <td>19937</td>\n",
              "      <td>19937</td>\n",
              "      <td>19937</td>\n",
              "      <td>19937</td>\n",
              "    </tr>\n",
              "    <tr>\n",
              "      <th>unique</th>\n",
              "      <td>6</td>\n",
              "      <td>3</td>\n",
              "      <td>1</td>\n",
              "      <td>1</td>\n",
              "      <td>10</td>\n",
              "      <td>36</td>\n",
              "      <td>52</td>\n",
              "      <td>39</td>\n",
              "      <td>48</td>\n",
              "      <td>12</td>\n",
              "      <td>...</td>\n",
              "      <td>1</td>\n",
              "      <td>679</td>\n",
              "      <td>687</td>\n",
              "      <td>5</td>\n",
              "      <td>3</td>\n",
              "      <td>123</td>\n",
              "      <td>2</td>\n",
              "      <td>18</td>\n",
              "      <td>16</td>\n",
              "      <td>9965</td>\n",
              "    </tr>\n",
              "    <tr>\n",
              "      <th>top</th>\n",
              "      <td>100</td>\n",
              "      <td>100</td>\n",
              "      <td>100</td>\n",
              "      <td>100</td>\n",
              "      <td>100</td>\n",
              "      <td>100</td>\n",
              "      <td>100</td>\n",
              "      <td>100</td>\n",
              "      <td>100</td>\n",
              "      <td>100</td>\n",
              "      <td>...</td>\n",
              "      <td>100</td>\n",
              "      <td>-7367.458799999206</td>\n",
              "      <td>4864841.782799996</td>\n",
              "      <td>3</td>\n",
              "      <td>2</td>\n",
              "      <td>202</td>\n",
              "      <td>2</td>\n",
              "      <td>11</td>\n",
              "      <td>14</td>\n",
              "      <td>1371715291</td>\n",
              "    </tr>\n",
              "    <tr>\n",
              "      <th>freq</th>\n",
              "      <td>19919</td>\n",
              "      <td>19918</td>\n",
              "      <td>19937</td>\n",
              "      <td>19937</td>\n",
              "      <td>19897</td>\n",
              "      <td>19629</td>\n",
              "      <td>19359</td>\n",
              "      <td>19260</td>\n",
              "      <td>19342</td>\n",
              "      <td>19850</td>\n",
              "      <td>...</td>\n",
              "      <td>19937</td>\n",
              "      <td>135</td>\n",
              "      <td>135</td>\n",
              "      <td>5048</td>\n",
              "      <td>9492</td>\n",
              "      <td>484</td>\n",
              "      <td>16608</td>\n",
              "      <td>4516</td>\n",
              "      <td>4835</td>\n",
              "      <td>18</td>\n",
              "    </tr>\n",
              "  </tbody>\n",
              "</table>\n",
              "<p>4 rows × 529 columns</p>\n",
              "</div>"
            ],
            "text/plain": [
              "       WAP001 WAP002 WAP003 WAP004 WAP005 WAP006 WAP007 WAP008 WAP009 WAP010  \\\n",
              "count   19937  19937  19937  19937  19937  19937  19937  19937  19937  19937   \n",
              "unique      6      3      1      1     10     36     52     39     48     12   \n",
              "top       100    100    100    100    100    100    100    100    100    100   \n",
              "freq    19919  19918  19937  19937  19897  19629  19359  19260  19342  19850   \n",
              "\n",
              "           ...     WAP520           LONGITUDE           LATITUDE  FLOOR  \\\n",
              "count      ...      19937               19937              19937  19937   \n",
              "unique     ...          1                 679                687      5   \n",
              "top        ...        100  -7367.458799999206  4864841.782799996      3   \n",
              "freq       ...      19937                 135                135   5048   \n",
              "\n",
              "       BUILDINGID SPACEID RELATIVEPOSITION USERID PHONEID   TIMESTAMP  \n",
              "count       19937   19937            19937  19937   19937       19937  \n",
              "unique          3     123                2     18      16        9965  \n",
              "top             2     202                2     11      14  1371715291  \n",
              "freq         9492     484            16608   4516    4835          18  \n",
              "\n",
              "[4 rows x 529 columns]"
            ]
          },
          "metadata": {
            "tags": []
          },
          "execution_count": 19
        }
      ]
    },
    {
      "metadata": {
        "id": "YJolC7lnV9C_",
        "colab_type": "text"
      },
      "cell_type": "markdown",
      "source": [
        "For object data (e.g. strings or timestamps), the result’s index will include count, unique, top, and freq. The top is the most common value. The freq is the most common value’s frequency. Timestamps also include the first and last items."
      ]
    },
    {
      "metadata": {
        "id": "EXAjfQ776Ew_",
        "colab_type": "code",
        "colab": {
          "autoexec": {
            "startup": false,
            "wait_interval": 0
          },
          "base_uri": "https://localhost:8080/",
          "height": 34
        },
        "outputId": "4556a4ec-edba-4076-af63-4a283fa1cff1",
        "executionInfo": {
          "status": "ok",
          "timestamp": 1523213969735,
          "user_tz": 240,
          "elapsed": 351,
          "user": {
            "displayName": "Aahana Khajanchi",
            "photoUrl": "https://lh3.googleusercontent.com/a/default-user=s128",
            "userId": "111115529259210858043"
          }
        }
      },
      "cell_type": "code",
      "source": [
        "np.nanmin(Describe.iloc[3:4,:520].values)"
      ],
      "execution_count": 20,
      "outputs": [
        {
          "output_type": "execute_result",
          "data": {
            "text/plain": [
              "-104.0"
            ]
          },
          "metadata": {
            "tags": []
          },
          "execution_count": 20
        }
      ]
    },
    {
      "metadata": {
        "id": "2Nf3RFBW6goG",
        "colab_type": "code",
        "colab": {
          "autoexec": {
            "startup": false,
            "wait_interval": 0
          },
          "base_uri": "https://localhost:8080/",
          "height": 34
        },
        "outputId": "cae96f26-43ce-4ae6-ae41-ec7523cd2183",
        "executionInfo": {
          "status": "ok",
          "timestamp": 1523213970686,
          "user_tz": 240,
          "elapsed": 352,
          "user": {
            "displayName": "Aahana Khajanchi",
            "photoUrl": "https://lh3.googleusercontent.com/a/default-user=s128",
            "userId": "111115529259210858043"
          }
        }
      },
      "cell_type": "code",
      "source": [
        "np.nanmax(Describe.iloc[3:4,:520].values)"
      ],
      "execution_count": 21,
      "outputs": [
        {
          "output_type": "execute_result",
          "data": {
            "text/plain": [
              "100.0"
            ]
          },
          "metadata": {
            "tags": []
          },
          "execution_count": 21
        }
      ]
    },
    {
      "metadata": {
        "id": "cbWd1bb2XT7u",
        "colab_type": "code",
        "colab": {
          "autoexec": {
            "startup": false,
            "wait_interval": 0
          }
        }
      },
      "cell_type": "code",
      "source": [
        "# Replaced all WAP values having 100 to NAN\n",
        "\n",
        "X_train = (X_train\n",
        "             .replace(to_replace=100,value=np.nan))\n",
        "\n",
        "# Perform the same transform on Test data\n",
        "X_test = (X_test\n",
        "             .replace(to_replace=100,value=np.nan))"
      ],
      "execution_count": 0,
      "outputs": []
    },
    {
      "metadata": {
        "id": "RgwdImIhYOVI",
        "colab_type": "code",
        "colab": {
          "autoexec": {
            "startup": false,
            "wait_interval": 0
          },
          "base_uri": "https://localhost:8080/",
          "height": 282
        },
        "outputId": "ad8a6c2f-a635-4289-fdb5-3bbbb679e24d",
        "executionInfo": {
          "status": "ok",
          "timestamp": 1523213985634,
          "user_tz": 240,
          "elapsed": 842,
          "user": {
            "displayName": "Aahana Khajanchi",
            "photoUrl": "https://lh3.googleusercontent.com/a/default-user=s128",
            "userId": "111115529259210858043"
          }
        }
      },
      "cell_type": "code",
      "source": [
        "# Replacing out-of-range values with NaN to avoid disturbance to our analysis on in-range RSSI distribution\n",
        "X_stack = X_train.stack(dropna=False)\n",
        "sns.distplot(X_stack.dropna(),kde = False)"
      ],
      "execution_count": 23,
      "outputs": [
        {
          "output_type": "execute_result",
          "data": {
            "text/plain": [
              "<matplotlib.axes._subplots.AxesSubplot at 0x7f4d50389f60>"
            ]
          },
          "metadata": {
            "tags": []
          },
          "execution_count": 23
        },
        {
          "output_type": "display_data",
          "data": {
            "image/png": "[encoded data removed]",
            "text/plain": [
              "<matplotlib.figure.Figure at 0x7f4d50397e48>"
            ]
          },
          "metadata": {
            "tags": [],
            "image/png": {
              "width": 384,
              "height": 248
            }
          }
        }
      ]
    },
    {
      "metadata": {
        "id": "0RBaPJ_PlCye",
        "colab_type": "text"
      },
      "cell_type": "markdown",
      "source": [
        "\n",
        "Skewness is a measure of asymmetry of distribution. Clearly, the distribution above appears right-skewed with majority of the values being on the left side of the distribution. Let's look at the skewness value for inidividual WAP RSSI distributions! We might have to perform a log/ Box-Cox transformation to overcome the skewness.\n",
        "\n",
        "Let's look at percentage of out-of-range overall and column wise."
      ]
    },
    {
      "metadata": {
        "id": "Wlnf9LzCknuD",
        "colab_type": "code",
        "colab": {
          "autoexec": {
            "startup": false,
            "wait_interval": 0
          },
          "base_uri": "https://localhost:8080/",
          "height": 34
        },
        "outputId": "f7f25f29-dbd3-485b-b33e-4081dbae092d",
        "executionInfo": {
          "status": "ok",
          "timestamp": 1523213989550,
          "user_tz": 240,
          "elapsed": 664,
          "user": {
            "displayName": "Aahana Khajanchi",
            "photoUrl": "https://lh3.googleusercontent.com/a/default-user=s128",
            "userId": "111115529259210858043"
          }
        }
      },
      "cell_type": "code",
      "source": [
        "sum(X_stack.notnull())"
      ],
      "execution_count": 24,
      "outputs": [
        {
          "output_type": "execute_result",
          "data": {
            "text/plain": [
              "358763"
            ]
          },
          "metadata": {
            "tags": []
          },
          "execution_count": 24
        }
      ]
    },
    {
      "metadata": {
        "id": "5yf697rHLKYK",
        "colab_type": "code",
        "colab": {
          "autoexec": {
            "startup": false,
            "wait_interval": 0
          },
          "base_uri": "https://localhost:8080/",
          "height": 34
        },
        "outputId": "b9d03bf5-c5e8-4566-fab1-17c218026731",
        "executionInfo": {
          "status": "ok",
          "timestamp": 1523213996034,
          "user_tz": 240,
          "elapsed": 430,
          "user": {
            "displayName": "Aahana Khajanchi",
            "photoUrl": "https://lh3.googleusercontent.com/a/default-user=s128",
            "userId": "111115529259210858043"
          }
        }
      },
      "cell_type": "code",
      "source": [
        "len(X_stack) # Stack is changing into 2D-Array  520col * 19937rows"
      ],
      "execution_count": 25,
      "outputs": [
        {
          "output_type": "execute_result",
          "data": {
            "text/plain": [
              "10367240"
            ]
          },
          "metadata": {
            "tags": []
          },
          "execution_count": 25
        }
      ]
    },
    {
      "metadata": {
        "id": "4XlwlpLp6trG",
        "colab_type": "code",
        "colab": {
          "autoexec": {
            "startup": false,
            "wait_interval": 0
          },
          "base_uri": "https://localhost:8080/",
          "height": 34
        },
        "outputId": "726a0ada-b7fc-4015-fa53-487d9b9e0dd9",
        "executionInfo": {
          "status": "ok",
          "timestamp": 1523213997067,
          "user_tz": 240,
          "elapsed": 727,
          "user": {
            "displayName": "Aahana Khajanchi",
            "photoUrl": "https://lh3.googleusercontent.com/a/default-user=s128",
            "userId": "111115529259210858043"
          }
        }
      },
      "cell_type": "code",
      "source": [
        "# Proportion of in range values\n",
        "sum(X_stack.notnull())/len(X_stack)"
      ],
      "execution_count": 26,
      "outputs": [
        {
          "output_type": "execute_result",
          "data": {
            "text/plain": [
              "0.03460544947353394"
            ]
          },
          "metadata": {
            "tags": []
          },
          "execution_count": 26
        }
      ]
    },
    {
      "metadata": {
        "id": "QlWQhJrNQzVJ",
        "colab_type": "text"
      },
      "cell_type": "markdown",
      "source": [
        "96.1% of the values in the matrix represent Out-of-Range. This is expected as for any given measurement, only a subset of the APs might be in reach of the mobile device.\n",
        "\n",
        "For this purpose, let's analyze the ditribution of number of APs in range for the training data samples."
      ]
    },
    {
      "metadata": {
        "id": "qgkuTLxO69Pp",
        "colab_type": "code",
        "colab": {
          "autoexec": {
            "startup": false,
            "wait_interval": 0
          },
          "base_uri": "https://localhost:8080/",
          "height": 451
        },
        "outputId": "c2e17696-5ea7-44b7-804a-6575a84981c7",
        "executionInfo": {
          "status": "ok",
          "timestamp": 1523214003229,
          "user_tz": 240,
          "elapsed": 772,
          "user": {
            "displayName": "Aahana Khajanchi",
            "photoUrl": "https://lh3.googleusercontent.com/a/default-user=s128",
            "userId": "111115529259210858043"
          }
        }
      },
      "cell_type": "code",
      "source": [
        "waps_in_range = (X_train\n",
        "                 .notnull()\n",
        "                 .sum(axis = 1))\n",
        "\n",
        "fig, ax = plt.subplots(1,1)\n",
        "\n",
        "sns.violinplot(waps_in_range, ax = ax)\n",
        "ax.set_xlabel(\"Number of APs in range\")"
      ],
      "execution_count": 27,
      "outputs": [
        {
          "output_type": "stream",
          "text": [
            "/usr/local/lib/python3.6/dist-packages/seaborn/categorical.py:588: FutureWarning:\n",
            "\n",
            "remove_na is deprecated and is a private function. Do not use.\n",
            "\n",
            "/usr/local/lib/python3.6/dist-packages/seaborn/categorical.py:816: FutureWarning:\n",
            "\n",
            "remove_na is deprecated and is a private function. Do not use.\n",
            "\n"
          ],
          "name": "stderr"
        },
        {
          "output_type": "execute_result",
          "data": {
            "text/plain": [
              "Text(0.5,0,'Number of APs in range')"
            ]
          },
          "metadata": {
            "tags": []
          },
          "execution_count": 27
        },
        {
          "output_type": "display_data",
          "data": {
            "image/png": "[encoded data removed]",
            "text/plain": [
              "<matplotlib.figure.Figure at 0x7f4d503bfb70>"
            ]
          },
          "metadata": {
            "tags": [],
            "image/png": {
              "width": 349,
              "height": 262
            }
          }
        }
      ]
    },
    {
      "metadata": {
        "id": "ZPUM82OL7QPg",
        "colab_type": "code",
        "colab": {
          "autoexec": {
            "startup": false,
            "wait_interval": 0
          },
          "base_uri": "https://localhost:8080/",
          "height": 168
        },
        "outputId": "9c9a2828-506a-4a62-ad88-42c47d2a9be5",
        "executionInfo": {
          "status": "ok",
          "timestamp": 1523214008743,
          "user_tz": 240,
          "elapsed": 386,
          "user": {
            "displayName": "Aahana Khajanchi",
            "photoUrl": "https://lh3.googleusercontent.com/a/default-user=s128",
            "userId": "111115529259210858043"
          }
        }
      },
      "cell_type": "code",
      "source": [
        "waps_in_range.describe()"
      ],
      "execution_count": 28,
      "outputs": [
        {
          "output_type": "execute_result",
          "data": {
            "text/plain": [
              "count    19937.000000\n",
              "mean        17.994834\n",
              "std          7.333575\n",
              "min          0.000000\n",
              "25%         13.000000\n",
              "50%         17.000000\n",
              "75%         22.000000\n",
              "max         51.000000\n",
              "dtype: float64"
            ]
          },
          "metadata": {
            "tags": []
          },
          "execution_count": 28
        }
      ]
    },
    {
      "metadata": {
        "id": "ESHHQjpq7s5C",
        "colab_type": "text"
      },
      "cell_type": "markdown",
      "source": [
        "Interestingly, majority of the samples have over 13 APs in range with the maximum of 51 APs. We do observe some of the training samples with 0 APs in range. Let's remove these samples from the training data."
      ]
    },
    {
      "metadata": {
        "id": "1gS4qqe97VxA",
        "colab_type": "code",
        "colab": {
          "autoexec": {
            "startup": false,
            "wait_interval": 0
          },
          "base_uri": "https://localhost:8080/",
          "height": 51
        },
        "outputId": "8243e664-84b7-4ea4-f6e6-165d32609a9e",
        "executionInfo": {
          "status": "ok",
          "timestamp": 1523214019618,
          "user_tz": 240,
          "elapsed": 755,
          "user": {
            "displayName": "Aahana Khajanchi",
            "photoUrl": "https://lh3.googleusercontent.com/a/default-user=s128",
            "userId": "111115529259210858043"
          }
        }
      },
      "cell_type": "code",
      "source": [
        "print(\"Before sample removal:\", len(X_train))\n",
        "\n",
        "y_train = (y_train\n",
        "          .loc[X_train\n",
        "              .notnull()\n",
        "              .any(axis=1),:])\n",
        "\n",
        "X_train = (X_train\n",
        "           .loc[X_train\n",
        "                .notnull()\n",
        "                .any(axis=1),:])\n",
        "\n",
        "\n",
        "print(\"After sample removal:\", len(X_train))"
      ],
      "execution_count": 29,
      "outputs": [
        {
          "output_type": "stream",
          "text": [
            "Before sample removal: 19937\n",
            "After sample removal: 19861\n"
          ],
          "name": "stdout"
        }
      ]
    },
    {
      "metadata": {
        "id": "_l27zvs5G-G2",
        "colab_type": "text"
      },
      "cell_type": "markdown",
      "source": [
        "We cannot delete training samples with just a single AP or few APs in range as that is the best information we have to localize.\n",
        "\n",
        "We can remove the RSSI columns related to APs which are not in range in any of our training samples."
      ]
    },
    {
      "metadata": {
        "id": "1ztV4F2sG8nc",
        "colab_type": "code",
        "colab": {
          "autoexec": {
            "startup": false,
            "wait_interval": 0
          },
          "base_uri": "https://localhost:8080/",
          "height": 51
        },
        "outputId": "770eaaf9-689c-4bde-b9c8-4901e031c781",
        "executionInfo": {
          "status": "ok",
          "timestamp": 1523214045089,
          "user_tz": 240,
          "elapsed": 578,
          "user": {
            "displayName": "Aahana Khajanchi",
            "photoUrl": "https://lh3.googleusercontent.com/a/default-user=s128",
            "userId": "111115529259210858043"
          }
        }
      },
      "cell_type": "code",
      "source": [
        "# Removing columns with all NaN values\n",
        "all_nan = (X_train\n",
        "           .isnull()\n",
        "           .all(axis=0) == False)\n",
        "filtered_cols = (all_nan[all_nan]\n",
        "                 .index\n",
        "                 .values)\n",
        "\n",
        "print(\"Before removing predictors with no in-range values\", X_train.shape)\n",
        "\n",
        "X_train = X_train.loc[:,filtered_cols]\n",
        "X_test = X_test.loc[:,filtered_cols]\n",
        "\n",
        "print(\"After removing predictors with no in-range values\", X_train.shape)"
      ],
      "execution_count": 30,
      "outputs": [
        {
          "output_type": "stream",
          "text": [
            "Before removing predictors with no in-range values (19861, 520)\n",
            "After removing predictors with no in-range values (19861, 465)\n"
          ],
          "name": "stdout"
        }
      ]
    },
    {
      "metadata": {
        "id": "KV8rpWSdG8bM",
        "colab_type": "code",
        "colab": {
          "autoexec": {
            "startup": false,
            "wait_interval": 0
          },
          "base_uri": "https://localhost:8080/",
          "height": 34
        },
        "outputId": "c7564f2e-cd70-49d8-ed16-2977a8c6c098",
        "executionInfo": {
          "status": "ok",
          "timestamp": 1523214048251,
          "user_tz": 240,
          "elapsed": 367,
          "user": {
            "displayName": "Aahana Khajanchi",
            "photoUrl": "https://lh3.googleusercontent.com/a/default-user=s128",
            "userId": "111115529259210858043"
          }
        }
      },
      "cell_type": "code",
      "source": [
        "X_raw_train = X_train\n",
        "X_raw_test = X_test\n",
        "\n",
        "X_raw_train.shape, X_raw_test.shape"
      ],
      "execution_count": 31,
      "outputs": [
        {
          "output_type": "execute_result",
          "data": {
            "text/plain": [
              "((19861, 465), (1111, 465))"
            ]
          },
          "metadata": {
            "tags": []
          },
          "execution_count": 31
        }
      ]
    },
    {
      "metadata": {
        "id": "MJrRSNLU7_lA",
        "colab_type": "text"
      },
      "cell_type": "markdown",
      "source": [
        "#Skewness and Kurtosis "
      ]
    },
    {
      "metadata": {
        "id": "M8jxZRHd73cI",
        "colab_type": "text"
      },
      "cell_type": "markdown",
      "source": [
        "Skewness is a measure of symmetry, or more precisely, the lack of symmetry. A distribution, or data set, is symmetric if it looks the same to the left and right of the center point.\n",
        "\n",
        "Kurtosis is a measure of whether the data are heavy-tailed or light-tailed relative to a normal distribution. That is, data sets with high kurtosis tend to have heavy tails, or outliers. Data sets with low kurtosis tend to have light tails, or lack of outliers. A uniform distribution would be the extreme case."
      ]
    },
    {
      "metadata": {
        "id": "PQoQddgt77bs",
        "colab_type": "code",
        "colab": {
          "autoexec": {
            "startup": false,
            "wait_interval": 0
          },
          "base_uri": "https://localhost:8080/",
          "height": 282
        },
        "outputId": "ce97b87b-fab1-4081-d063-e37ffb58f212",
        "executionInfo": {
          "status": "ok",
          "timestamp": 1523214061950,
          "user_tz": 240,
          "elapsed": 1042,
          "user": {
            "displayName": "Aahana Khajanchi",
            "photoUrl": "https://lh3.googleusercontent.com/a/default-user=s128",
            "userId": "111115529259210858043"
          }
        }
      },
      "cell_type": "code",
      "source": [
        "# Finding skewness ignoring out-of-range values\n",
        "X_skew = X_train.skew()\n",
        "\n",
        "sns.distplot(X_skew.dropna(),kde=False)"
      ],
      "execution_count": 32,
      "outputs": [
        {
          "output_type": "execute_result",
          "data": {
            "text/plain": [
              "<matplotlib.axes._subplots.AxesSubplot at 0x7f4d2c031780>"
            ]
          },
          "metadata": {
            "tags": []
          },
          "execution_count": 32
        },
        {
          "output_type": "display_data",
          "data": {
            "image/png": "[encoded data removed]",
            "text/plain": [
              "<matplotlib.figure.Figure at 0x7f4d2c031198>"
            ]
          },
          "metadata": {
            "tags": [],
            "image/png": {
              "width": 367,
              "height": 248
            }
          }
        }
      ]
    },
    {
      "metadata": {
        "id": "tXTkmA_gb2e5",
        "colab_type": "code",
        "colab": {
          "autoexec": {
            "startup": false,
            "wait_interval": 0
          },
          "base_uri": "https://localhost:8080/",
          "height": 34
        },
        "outputId": "9fed2569-db0f-4aef-eebe-9c3241003818",
        "executionInfo": {
          "status": "ok",
          "timestamp": 1523214071176,
          "user_tz": 240,
          "elapsed": 894,
          "user": {
            "displayName": "Aahana Khajanchi",
            "photoUrl": "https://lh3.googleusercontent.com/a/default-user=s128",
            "userId": "111115529259210858043"
          }
        }
      },
      "cell_type": "code",
      "source": [
        "X_exp_train = np.power(10,X_train/10,) \n",
        "X_exp_test = np.power(10,X_test/10)\n",
        "\n",
        "abs_min = (X_exp_train.apply(min).min())\n",
        "print(abs_min)\n",
        "\n",
        "X_exp_train.fillna(abs_min,inplace=True)# Change all values to abs_min\n",
        "X_exp_test.fillna(abs_min,inplace=True)"
      ],
      "execution_count": 33,
      "outputs": [
        {
          "output_type": "stream",
          "text": [
            "5.011872336272715e-11\n"
          ],
          "name": "stdout"
        }
      ]
    },
    {
      "metadata": {
        "id": "zV_KHBCl8Phl",
        "colab_type": "text"
      },
      "cell_type": "markdown",
      "source": [
        "As you can see above majority of the WAP columns have a low to medium positive skewness in the region (0,1). There are still a few columns outside the (1,-1) range. (1,-1) is considered an acceptable range of skewness.\n",
        "\n",
        "Next, before we apply the Normality tests, we need to fill in the out-of-range values which are currently NaN. Box-Cox transformation requires all values to be positive. For this purpose, let's transform our predictors to normal scale from the dBm scale.\n",
        "\n",
        "Also, the out-of-range values are transformed to 1/hundreth of the absolute minimum among all in-range values. Therefore, the transformed out-of-range value represents the minimum RSSI value in the dataset."
      ]
    },
    {
      "metadata": {
        "id": "zy9GpO8P9nSJ",
        "colab_type": "code",
        "colab": {
          "autoexec": {
            "startup": false,
            "wait_interval": 0
          },
          "base_uri": "https://localhost:8080/",
          "height": 292
        },
        "outputId": "acc3de32-19d5-4404-e330-2150aa7d12c6",
        "executionInfo": {
          "status": "ok",
          "timestamp": 1523214092177,
          "user_tz": 240,
          "elapsed": 460,
          "user": {
            "displayName": "Aahana Khajanchi",
            "photoUrl": "https://lh3.googleusercontent.com/a/default-user=s128",
            "userId": "111115529259210858043"
          }
        }
      },
      "cell_type": "code",
      "source": [
        "plt.plot(X_exp_train.iloc[:,0])"
      ],
      "execution_count": 34,
      "outputs": [
        {
          "output_type": "execute_result",
          "data": {
            "text/plain": [
              "[<matplotlib.lines.Line2D at 0x7f4d4fe0af28>]"
            ]
          },
          "metadata": {
            "tags": []
          },
          "execution_count": 34
        },
        {
          "output_type": "display_data",
          "data": {
            "image/png": "[encoded data removed]",
            "text/plain": [
              "<matplotlib.figure.Figure at 0x7f4d503c95c0>"
            ]
          },
          "metadata": {
            "tags": [],
            "image/png": {
              "width": 361,
              "height": 258
            }
          }
        }
      ]
    },
    {
      "metadata": {
        "id": "qjWMCDpbVMSX",
        "colab_type": "text"
      },
      "cell_type": "markdown",
      "source": [
        "#Normality test\n",
        "In this sub-section, I will explore various normality tests and explore the distributions of RSSI predictors.\n",
        "\n",
        "Skew test: Tests whether the skew is different from the normal distribution. The Z-score of the test in which the null hypothesis states that that the skewness of the population that the sample was drawn from is the same as that of a corresponding normal distribution.\n",
        "\n",
        "Kurtosis test: Z-score of the test in which the null hypothesis states that the kurtosis of the population from which the sample was drawn is that of the normal distribution: kurtosis = 3(n-1)/(n+1).\n",
        "\n",
        "k2: $s^2 + k^2$, where $s$ is the z-score returned by skew test and $k$ is the z-score returned by kurtosistest.\n",
        "\n",
        "p_value: A 2-sided chi squared probability for the hypothesis test that the sample comes from a normal distribution. Same test as k2."
      ]
    },
    {
      "metadata": {
        "id": "fkmt9TvO88hr",
        "colab_type": "code",
        "colab": {
          "autoexec": {
            "startup": false,
            "wait_interval": 0
          }
        }
      },
      "cell_type": "code",
      "source": [
        "from scipy.stats.mstats import  skew, kurtosis\n",
        "\n",
        "def skew_score(s):\n",
        "    s = s.dropna()\n",
        "    return float(skew(s).data) #Return unbiased skew over requested axis Normalized by N-1\n",
        "\n",
        "def kurtosis_score(s):\n",
        "    s = s.dropna()\n",
        "    return kurtosis(s) #Return unbiased kurtosis over requested axis using Fisher’s definition of kurtosis (kurtosis of normal == 0.0). Normalized by N-1\n",
        "\n",
        "def in_range(s):\n",
        "    return (s > abs_min).sum() # Samples that are greater then abs.min() i.e. 5.011"
      ],
      "execution_count": 0,
      "outputs": []
    },
    {
      "metadata": {
        "id": "yq9R92pk87fW",
        "colab_type": "code",
        "colab": {
          "autoexec": {
            "startup": false,
            "wait_interval": 0
          },
          "base_uri": "https://localhost:8080/",
          "height": 491
        },
        "outputId": "e557904f-7a7f-43ba-a8f9-11b5a7adf1e0",
        "executionInfo": {
          "status": "ok",
          "timestamp": 1523214125909,
          "user_tz": 240,
          "elapsed": 2873,
          "user": {
            "displayName": "Aahana Khajanchi",
            "photoUrl": "https://lh3.googleusercontent.com/a/default-user=s128",
            "userId": "111115529259210858043"
          }
        }
      },
      "cell_type": "code",
      "source": [
        "X_norm = pd.DataFrame({'Sample_Size': X_exp_train.apply(in_range),\n",
        "                         'Skewness': X_exp_train.apply(skew_score),\n",
        "                         'Kurtosis': X_exp_train.apply(kurtosis_score),\n",
        "                     \n",
        "                        })\n",
        "\n",
        "X_norm.head(15)"
      ],
      "execution_count": 36,
      "outputs": [
        {
          "output_type": "execute_result",
          "data": {
            "text/html": [
              "<div>\n",
              "<style scoped>\n",
              "    .dataframe tbody tr th:only-of-type {\n",
              "        vertical-align: middle;\n",
              "    }\n",
              "\n",
              "    .dataframe tbody tr th {\n",
              "        vertical-align: top;\n",
              "    }\n",
              "\n",
              "    .dataframe thead th {\n",
              "        text-align: right;\n",
              "    }\n",
              "</style>\n",
              "<table border=\"1\" class=\"dataframe\">\n",
              "  <thead>\n",
              "    <tr style=\"text-align: right;\">\n",
              "      <th></th>\n",
              "      <th>Kurtosis</th>\n",
              "      <th>Sample_Size</th>\n",
              "      <th>Skewness</th>\n",
              "    </tr>\n",
              "  </thead>\n",
              "  <tbody>\n",
              "    <tr>\n",
              "      <th>WAP001</th>\n",
              "      <td>1589.911556</td>\n",
              "      <td>18</td>\n",
              "      <td>38.296999</td>\n",
              "    </tr>\n",
              "    <tr>\n",
              "      <th>WAP002</th>\n",
              "      <td>1570.412878</td>\n",
              "      <td>19</td>\n",
              "      <td>38.774718</td>\n",
              "    </tr>\n",
              "    <tr>\n",
              "      <th>WAP005</th>\n",
              "      <td>988.020774</td>\n",
              "      <td>40</td>\n",
              "      <td>29.692772</td>\n",
              "    </tr>\n",
              "    <tr>\n",
              "      <th>WAP006</th>\n",
              "      <td>2649.644164</td>\n",
              "      <td>308</td>\n",
              "      <td>49.203758</td>\n",
              "    </tr>\n",
              "    <tr>\n",
              "      <th>WAP007</th>\n",
              "      <td>2544.345308</td>\n",
              "      <td>578</td>\n",
              "      <td>48.199343</td>\n",
              "    </tr>\n",
              "    <tr>\n",
              "      <th>WAP008</th>\n",
              "      <td>271.572833</td>\n",
              "      <td>677</td>\n",
              "      <td>15.905379</td>\n",
              "    </tr>\n",
              "    <tr>\n",
              "      <th>WAP009</th>\n",
              "      <td>1607.562517</td>\n",
              "      <td>595</td>\n",
              "      <td>36.943490</td>\n",
              "    </tr>\n",
              "    <tr>\n",
              "      <th>WAP010</th>\n",
              "      <td>1314.161272</td>\n",
              "      <td>87</td>\n",
              "      <td>33.682378</td>\n",
              "    </tr>\n",
              "    <tr>\n",
              "      <th>WAP011</th>\n",
              "      <td>8749.417194</td>\n",
              "      <td>2956</td>\n",
              "      <td>91.377383</td>\n",
              "    </tr>\n",
              "    <tr>\n",
              "      <th>WAP012</th>\n",
              "      <td>2186.418420</td>\n",
              "      <td>2983</td>\n",
              "      <td>46.709112</td>\n",
              "    </tr>\n",
              "    <tr>\n",
              "      <th>WAP013</th>\n",
              "      <td>2224.512227</td>\n",
              "      <td>1975</td>\n",
              "      <td>41.630716</td>\n",
              "    </tr>\n",
              "    <tr>\n",
              "      <th>WAP014</th>\n",
              "      <td>2208.568286</td>\n",
              "      <td>1955</td>\n",
              "      <td>41.864942</td>\n",
              "    </tr>\n",
              "    <tr>\n",
              "      <th>WAP015</th>\n",
              "      <td>254.567147</td>\n",
              "      <td>1007</td>\n",
              "      <td>14.216486</td>\n",
              "    </tr>\n",
              "    <tr>\n",
              "      <th>WAP016</th>\n",
              "      <td>501.190217</td>\n",
              "      <td>999</td>\n",
              "      <td>20.185881</td>\n",
              "    </tr>\n",
              "    <tr>\n",
              "      <th>WAP017</th>\n",
              "      <td>662.356727</td>\n",
              "      <td>84</td>\n",
              "      <td>24.103059</td>\n",
              "    </tr>\n",
              "  </tbody>\n",
              "</table>\n",
              "</div>"
            ],
            "text/plain": [
              "           Kurtosis  Sample_Size   Skewness\n",
              "WAP001  1589.911556           18  38.296999\n",
              "WAP002  1570.412878           19  38.774718\n",
              "WAP005   988.020774           40  29.692772\n",
              "WAP006  2649.644164          308  49.203758\n",
              "WAP007  2544.345308          578  48.199343\n",
              "WAP008   271.572833          677  15.905379\n",
              "WAP009  1607.562517          595  36.943490\n",
              "WAP010  1314.161272           87  33.682378\n",
              "WAP011  8749.417194         2956  91.377383\n",
              "WAP012  2186.418420         2983  46.709112\n",
              "WAP013  2224.512227         1975  41.630716\n",
              "WAP014  2208.568286         1955  41.864942\n",
              "WAP015   254.567147         1007  14.216486\n",
              "WAP016   501.190217          999  20.185881\n",
              "WAP017   662.356727           84  24.103059"
            ]
          },
          "metadata": {
            "tags": []
          },
          "execution_count": 36
        }
      ]
    },
    {
      "metadata": {
        "id": "8l-6nNQ185tL",
        "colab_type": "code",
        "colab": {
          "autoexec": {
            "startup": false,
            "wait_interval": 0
          },
          "base_uri": "https://localhost:8080/",
          "height": 34
        },
        "outputId": "4e8fa9f8-08da-4641-9c82-076e896ef6f9",
        "executionInfo": {
          "status": "ok",
          "timestamp": 1523214140591,
          "user_tz": 240,
          "elapsed": 1004,
          "user": {
            "displayName": "Aahana Khajanchi",
            "photoUrl": "https://lh3.googleusercontent.com/a/default-user=s128",
            "userId": "111115529259210858043"
          }
        }
      },
      "cell_type": "code",
      "source": [
        "(X_exp_train.iloc[:,0] > 0.0).sum()"
      ],
      "execution_count": 37,
      "outputs": [
        {
          "output_type": "execute_result",
          "data": {
            "text/plain": [
              "19861"
            ]
          },
          "metadata": {
            "tags": []
          },
          "execution_count": 37
        }
      ]
    },
    {
      "metadata": {
        "id": "2pawc8X8prgg",
        "colab_type": "text"
      },
      "cell_type": "markdown",
      "source": [
        "Let's explore the relationship between Kurtosis scores and Skew scores."
      ]
    },
    {
      "metadata": {
        "id": "EwPAotk5n9Um",
        "colab_type": "code",
        "colab": {
          "autoexec": {
            "startup": false,
            "wait_interval": 0
          },
          "base_uri": "https://localhost:8080/",
          "height": 458
        },
        "outputId": "0680ba86-5324-4267-b6c6-fa1897c9f101",
        "executionInfo": {
          "status": "ok",
          "timestamp": 1523214150629,
          "user_tz": 240,
          "elapsed": 781,
          "user": {
            "displayName": "Aahana Khajanchi",
            "photoUrl": "https://lh3.googleusercontent.com/a/default-user=s128",
            "userId": "111115529259210858043"
          }
        }
      },
      "cell_type": "code",
      "source": [
        "sns.jointplot(y=\"Kurtosis\", x=\"Skewness\", stat_func= None, data=X_norm)"
      ],
      "execution_count": 38,
      "outputs": [
        {
          "output_type": "execute_result",
          "data": {
            "text/plain": [
              "<seaborn.axisgrid.JointGrid at 0x7f4d5009ce80>"
            ]
          },
          "metadata": {
            "tags": []
          },
          "execution_count": 38
        },
        {
          "output_type": "display_data",
          "data": {
            "image/png": "[encoded data removed]",
            "text/plain": [
              "<matplotlib.figure.Figure at 0x7f4d5009cef0>"
            ]
          },
          "metadata": {
            "tags": [],
            "image/png": {
              "width": 439,
              "height": 424
            }
          }
        }
      ]
    },
    {
      "metadata": {
        "id": "W1LxzmBxp_HL",
        "colab_type": "text"
      },
      "cell_type": "markdown",
      "source": [
        "Skewness: For normally distributed data, the skewness should be about 0. Skewness value > 0 means that there is more weight in the right tail of the distribution. Similarly, a negative value indicates a left-skewed distribution with more weight on the left tail.\n",
        "\n",
        "Clearly, many of the predictors have a skewness outside the expected range of 0,0\n",
        "\n",
        "Kurtosis: Kurtosis is the fourth central moment divided by the square of the variance. If a distribution has positive kurtosis, that means it has more in the tails than the normal distribution. Similarly, if a distribution has a negative kurtosis, it has less in the tails than the normal distribution.\n",
        "\n",
        "In the above figure, for the columns with a higher skewness score, the kurtosis is also more extreme.\n",
        "\n",
        "The statistical significance of the Skewness and Kurtosis scores can be checked plotting the z-scores of the Skew test and Kurtosis tests."
      ]
    },
    {
      "metadata": {
        "id": "rjCJWV_oq8Nv",
        "colab_type": "text"
      },
      "cell_type": "markdown",
      "source": [
        "# Box-Cox Transformation"
      ]
    },
    {
      "metadata": {
        "id": "oSlPkP9-rBI7",
        "colab_type": "text"
      },
      "cell_type": "markdown",
      "source": [
        "Data that doesn't follow a known distribution, such as the normal distribution, is often difficult to manage. A popular strategy to get control of the data is to apply the Box-Cox transformation.\n",
        "The transformation relies primarily on a lambda (ƛ) variable that holds a value between -1 and 1 that is automatically calculated to be optimal for your data. \n"
      ]
    },
    {
      "metadata": {
        "id": "WKPfMNYmTeLP",
        "colab_type": "text"
      },
      "cell_type": "markdown",
      "source": [
        "A Box-Cox normality plot shows graphically what the best transformation parameter is to use in boxcox to obtain a distribution that is close to normal. Probability Plot Correlelation Coefficient, as obtained from probplot when fitting the Box-Cox transformed input x against a normal distribution."
      ]
    },
    {
      "metadata": {
        "id": "vfk0OjOvf5ii",
        "colab_type": "code",
        "colab": {
          "autoexec": {
            "startup": false,
            "wait_interval": 0
          }
        }
      },
      "cell_type": "code",
      "source": [
        "from scipy import stats"
      ],
      "execution_count": 0,
      "outputs": []
    },
    {
      "metadata": {
        "id": "_qQqRtFepR9E",
        "colab_type": "code",
        "colab": {
          "autoexec": {
            "startup": false,
            "wait_interval": 0
          },
          "base_uri": "https://localhost:8080/",
          "height": 585
        },
        "outputId": "369ecdb7-a3e4-407b-e932-bb3ca5dc24ed",
        "executionInfo": {
          "status": "ok",
          "timestamp": 1523214170766,
          "user_tz": 240,
          "elapsed": 1429,
          "user": {
            "displayName": "Aahana Khajanchi",
            "photoUrl": "https://lh3.googleusercontent.com/a/default-user=s128",
            "userId": "111115529259210858043"
          }
        }
      },
      "cell_type": "code",
      "source": [
        "# Transforming boxcox plot to normalized form and here -100 and 100 are the ranges, lower and upper bound\n",
        "lmbdas, pppc = stats.boxcox_normplot(X_exp_train.iloc[:,100], -100, 100)\n",
        "\n",
        "fig,ax = plt.subplots(1,1)\n",
        "ax.plot(lmbdas,pppc,'bo')\n",
        "\n",
        "_, maxlog = stats.boxcox(X_exp_train.iloc[:,0])\n",
        "ax.axvline(maxlog, color='r') # added vertical line across the axes\n",
        "\n",
        "ax.set_xlabel(\"$\\lambda$\")\n",
        "ax.set_ylabel(\"Prob Plot Corr Coeff\")\n",
        "ax.text(x = -8, y = 0.1, s=\"$\\lambda_{opt} = $\" + str(maxlog))"
      ],
      "execution_count": 40,
      "outputs": [
        {
          "output_type": "stream",
          "text": [
            "/usr/local/lib/python3.6/dist-packages/numpy/lib/function_base.py:3103: RuntimeWarning:\n",
            "\n",
            "invalid value encountered in subtract\n",
            "\n",
            "/usr/local/lib/python3.6/dist-packages/scipy/stats/morestats.py:901: RuntimeWarning:\n",
            "\n",
            "divide by zero encountered in log\n",
            "\n",
            "/usr/local/lib/python3.6/dist-packages/scipy/optimize/optimize.py:1849: RuntimeWarning:\n",
            "\n",
            "invalid value encountered in double_scalars\n",
            "\n",
            "/usr/local/lib/python3.6/dist-packages/scipy/optimize/optimize.py:1850: RuntimeWarning:\n",
            "\n",
            "invalid value encountered in double_scalars\n",
            "\n"
          ],
          "name": "stderr"
        },
        {
          "output_type": "execute_result",
          "data": {
            "text/plain": [
              "Text(-8,0.1,'$\\\\lambda_{opt} = $5.636369066885444')"
            ]
          },
          "metadata": {
            "tags": []
          },
          "execution_count": 40
        },
        {
          "output_type": "display_data",
          "data": {
            "image/png": "[encoded data removed]",
            "text/plain": [
              "<matplotlib.figure.Figure at 0x7f4d50206630>"
            ]
          },
          "metadata": {
            "tags": [],
            "image/png": {
              "width": 384,
              "height": 262
            }
          }
        }
      ]
    },
    {
      "metadata": {
        "id": "-fVfVT0Wbhd1",
        "colab_type": "text"
      },
      "cell_type": "markdown",
      "source": [
        "The maximum log likelihood function peaks at $\\lambda = 1.1437$. Next, let's find out the $\\lambda$s for different columns in our dataset."
      ]
    },
    {
      "metadata": {
        "id": "YeO0pNawfMEZ",
        "colab_type": "code",
        "colab": {
          "autoexec": {
            "startup": false,
            "wait_interval": 0
          }
        }
      },
      "cell_type": "code",
      "source": [
        "def box_cox_lambda(s):\n",
        "    _, maxlog = stats.boxcox(s)\n",
        "    return maxlog"
      ],
      "execution_count": 0,
      "outputs": []
    },
    {
      "metadata": {
        "id": "COEvpkFAdcjI",
        "colab_type": "text"
      },
      "cell_type": "markdown",
      "source": [
        "stats.boxcox(x, lmbda=None, alpha=None). Returns a positive dataset transformed"
      ]
    },
    {
      "metadata": {
        "id": "39vJAFFzbO_s",
        "colab_type": "code",
        "colab": {
          "autoexec": {
            "startup": false,
            "wait_interval": 0
          },
          "base_uri": "https://localhost:8080/",
          "height": 306
        },
        "outputId": "25b7dd56-402b-4ec7-a2c0-8640e881958f",
        "executionInfo": {
          "status": "ok",
          "timestamp": 1523214213969,
          "user_tz": 240,
          "elapsed": 27786,
          "user": {
            "displayName": "Aahana Khajanchi",
            "photoUrl": "https://lh3.googleusercontent.com/a/default-user=s128",
            "userId": "111115529259210858043"
          }
        }
      },
      "cell_type": "code",
      "source": [
        "lambda_bc = X_exp_train.apply(box_cox_lambda)\n",
        "\n",
        "X_boxcox_train = X_exp_train\n",
        "X_boxcox_test = X_exp_test\n",
        "\n",
        "for wap in X_boxcox_train:\n",
        "    # Training data transform\n",
        "    X_boxcox_train.loc[:,wap] = stats.boxcox(X_exp_train.loc[:,wap],lmbda = lambda_bc.loc[wap])\n",
        "    # Test data transform\n",
        "    X_boxcox_test.loc[:,wap] = stats.boxcox(X_exp_test.loc[:,wap],lmbda = lambda_bc.loc[wap])"
      ],
      "execution_count": 42,
      "outputs": [
        {
          "output_type": "stream",
          "text": [
            "/usr/local/lib/python3.6/dist-packages/scipy/stats/morestats.py:901: RuntimeWarning:\n",
            "\n",
            "divide by zero encountered in log\n",
            "\n",
            "/usr/local/lib/python3.6/dist-packages/scipy/optimize/optimize.py:1849: RuntimeWarning:\n",
            "\n",
            "invalid value encountered in double_scalars\n",
            "\n",
            "/usr/local/lib/python3.6/dist-packages/scipy/optimize/optimize.py:1850: RuntimeWarning:\n",
            "\n",
            "invalid value encountered in double_scalars\n",
            "\n",
            "/usr/local/lib/python3.6/dist-packages/scipy/stats/morestats.py:901: RuntimeWarning:\n",
            "\n",
            "overflow encountered in square\n",
            "\n"
          ],
          "name": "stderr"
        }
      ]
    },
    {
      "metadata": {
        "id": "aXNP3D-igBGN",
        "colab_type": "code",
        "colab": {
          "autoexec": {
            "startup": false,
            "wait_interval": 0
          },
          "base_uri": "https://localhost:8080/",
          "height": 296
        },
        "outputId": "cf5edcab-d8e0-4d84-fb03-e6e6e83a80d6",
        "executionInfo": {
          "status": "ok",
          "timestamp": 1523214214571,
          "user_tz": 240,
          "elapsed": 537,
          "user": {
            "displayName": "Aahana Khajanchi",
            "photoUrl": "https://lh3.googleusercontent.com/a/default-user=s128",
            "userId": "111115529259210858043"
          }
        }
      },
      "cell_type": "code",
      "source": [
        "sns.distplot(lambda_bc, kde = False)\n",
        "plt.title(\"Distribution of Box-Cox $\\lambda$ across predictors\")\n",
        "plt.tight_layout()"
      ],
      "execution_count": 43,
      "outputs": [
        {
          "output_type": "display_data",
          "data": {
            "image/png": "[encoded data removed]",
            "text/plain": [
              "<matplotlib.figure.Figure at 0x7f4d4ff8cc18>"
            ]
          },
          "metadata": {
            "tags": [],
            "image/png": {
              "width": 424,
              "height": 279
            }
          }
        }
      ]
    },
    {
      "metadata": {
        "id": "IRMkln-bhHaS",
        "colab_type": "text"
      },
      "cell_type": "markdown",
      "source": [
        "The above figure shows the distribution of $\\lambda$s that maximize log-likelihood function for each predictor. We can observe the two biggestbars are located at +5 and -2.5."
      ]
    },
    {
      "metadata": {
        "id": "ffhCcaIBg5Gb",
        "colab_type": "code",
        "colab": {
          "autoexec": {
            "startup": false,
            "wait_interval": 0
          },
          "base_uri": "https://localhost:8080/",
          "height": 699
        },
        "outputId": "e346500f-d22c-430c-cceb-f316f9a45302",
        "executionInfo": {
          "status": "ok",
          "timestamp": 1523214248894,
          "user_tz": 240,
          "elapsed": 2798,
          "user": {
            "displayName": "Aahana Khajanchi",
            "photoUrl": "https://lh3.googleusercontent.com/a/default-user=s128",
            "userId": "111115529259210858043"
          }
        }
      },
      "cell_type": "code",
      "source": [
        "# Calculating skewness, kurtosis and BoxCox_lambda \n",
        "X_norm_post_boxcox = pd.DataFrame({'Skewness': X_boxcox_train.apply(skew_score),\n",
        "                         'Kurtosis': X_boxcox_train.apply(kurtosis_score),\n",
        "                         'BoxCox_Lambda': lambda_bc})\n",
        "\n",
        "X_norm_post_boxcox.head(10)"
      ],
      "execution_count": 44,
      "outputs": [
        {
          "output_type": "stream",
          "text": [
            "/usr/local/lib/python3.6/dist-packages/numpy/core/_methods.py:70: RuntimeWarning:\n",
            "\n",
            "overflow encountered in reduce\n",
            "\n",
            "/usr/local/lib/python3.6/dist-packages/numpy/ma/core.py:4208: RuntimeWarning:\n",
            "\n",
            "overflow encountered in multiply\n",
            "\n",
            "/usr/local/lib/python3.6/dist-packages/numpy/core/_methods.py:70: RuntimeWarning:\n",
            "\n",
            "invalid value encountered in reduce\n",
            "\n",
            "/usr/local/lib/python3.6/dist-packages/numpy/ma/core.py:6649: RuntimeWarning:\n",
            "\n",
            "overflow encountered in power\n",
            "\n",
            "/usr/local/lib/python3.6/dist-packages/numpy/core/_methods.py:32: RuntimeWarning:\n",
            "\n",
            "overflow encountered in reduce\n",
            "\n"
          ],
          "name": "stderr"
        },
        {
          "output_type": "execute_result",
          "data": {
            "text/html": [
              "<div>\n",
              "<style scoped>\n",
              "    .dataframe tbody tr th:only-of-type {\n",
              "        vertical-align: middle;\n",
              "    }\n",
              "\n",
              "    .dataframe tbody tr th {\n",
              "        vertical-align: top;\n",
              "    }\n",
              "\n",
              "    .dataframe thead th {\n",
              "        text-align: right;\n",
              "    }\n",
              "</style>\n",
              "<table border=\"1\" class=\"dataframe\">\n",
              "  <thead>\n",
              "    <tr style=\"text-align: right;\">\n",
              "      <th></th>\n",
              "      <th>BoxCox_Lambda</th>\n",
              "      <th>Kurtosis</th>\n",
              "      <th>Skewness</th>\n",
              "    </tr>\n",
              "  </thead>\n",
              "  <tbody>\n",
              "    <tr>\n",
              "      <th>WAP001</th>\n",
              "      <td>5.636369</td>\n",
              "      <td>-3</td>\n",
              "      <td>0.000000</td>\n",
              "    </tr>\n",
              "    <tr>\n",
              "      <th>WAP002</th>\n",
              "      <td>5.636369</td>\n",
              "      <td>-3</td>\n",
              "      <td>0.000000</td>\n",
              "    </tr>\n",
              "    <tr>\n",
              "      <th>WAP005</th>\n",
              "      <td>5.636369</td>\n",
              "      <td>-3</td>\n",
              "      <td>0.000000</td>\n",
              "    </tr>\n",
              "    <tr>\n",
              "      <th>WAP006</th>\n",
              "      <td>-15.078885</td>\n",
              "      <td>--</td>\n",
              "      <td>0.000000</td>\n",
              "    </tr>\n",
              "    <tr>\n",
              "      <th>WAP007</th>\n",
              "      <td>-6.989974</td>\n",
              "      <td>29.3916</td>\n",
              "      <td>5.602818</td>\n",
              "    </tr>\n",
              "    <tr>\n",
              "      <th>WAP008</th>\n",
              "      <td>-6.063101</td>\n",
              "      <td>24.3721</td>\n",
              "      <td>5.135374</td>\n",
              "    </tr>\n",
              "    <tr>\n",
              "      <th>WAP009</th>\n",
              "      <td>-5.750808</td>\n",
              "      <td>28.4107</td>\n",
              "      <td>5.514591</td>\n",
              "    </tr>\n",
              "    <tr>\n",
              "      <th>WAP010</th>\n",
              "      <td>5.636369</td>\n",
              "      <td>-3</td>\n",
              "      <td>0.000000</td>\n",
              "    </tr>\n",
              "    <tr>\n",
              "      <th>WAP011</th>\n",
              "      <td>-0.975030</td>\n",
              "      <td>1.93886</td>\n",
              "      <td>1.982143</td>\n",
              "    </tr>\n",
              "    <tr>\n",
              "      <th>WAP012</th>\n",
              "      <td>-0.968725</td>\n",
              "      <td>1.87163</td>\n",
              "      <td>1.965486</td>\n",
              "    </tr>\n",
              "  </tbody>\n",
              "</table>\n",
              "</div>"
            ],
            "text/plain": [
              "        BoxCox_Lambda Kurtosis  Skewness\n",
              "WAP001       5.636369       -3  0.000000\n",
              "WAP002       5.636369       -3  0.000000\n",
              "WAP005       5.636369       -3  0.000000\n",
              "WAP006     -15.078885       --  0.000000\n",
              "WAP007      -6.989974  29.3916  5.602818\n",
              "WAP008      -6.063101  24.3721  5.135374\n",
              "WAP009      -5.750808  28.4107  5.514591\n",
              "WAP010       5.636369       -3  0.000000\n",
              "WAP011      -0.975030  1.93886  1.982143\n",
              "WAP012      -0.968725  1.87163  1.965486"
            ]
          },
          "metadata": {
            "tags": []
          },
          "execution_count": 44
        }
      ]
    },
    {
      "metadata": {
        "id": "fInBlzhehL1M",
        "colab_type": "text"
      },
      "cell_type": "markdown",
      "source": [
        "From the above table, we observed that the BoxCox-parameter values lie between -2.5 to +5. Also,The kurtosis and skewness seems to have greatly reduced compared to before the Box-Cox transformation\n",
        "\n"
      ]
    },
    {
      "metadata": {
        "id": "SMzY_RnNhMda",
        "colab_type": "code",
        "colab": {
          "autoexec": {
            "startup": false,
            "wait_interval": 0
          },
          "base_uri": "https://localhost:8080/",
          "height": 398
        },
        "outputId": "59fb28bd-974c-48b1-e879-d87cb1632471",
        "executionInfo": {
          "status": "ok",
          "timestamp": 1523214271837,
          "user_tz": 240,
          "elapsed": 658,
          "user": {
            "displayName": "Aahana Khajanchi",
            "photoUrl": "https://lh3.googleusercontent.com/a/default-user=s128",
            "userId": "111115529259210858043"
          }
        }
      },
      "cell_type": "code",
      "source": [
        "\n",
        "fig, (ax1,ax2) = plt.subplots(1,2)\n",
        "\n",
        "ax1.scatter(y=\"Kurtosis\", x=\"Skewness\", data=X_norm)\n",
        "ax1.set_xlabel(\"Skewness\")\n",
        "ax1.set_ylabel(\"Kurtosis\")\n",
        "ax1.set_title(\"Pre- Box-Cox\")\n",
        "\n",
        "ax2.scatter(y=\"Kurtosis\", x=\"Skewness\", data=X_norm_post_boxcox)\n",
        "ax2.set_xlabel(\"Skewness\")\n",
        "ax2.set_ylabel(\"Kurtosis\")\n",
        "ax2.set_title(\"Post- Box-Cox\")"
      ],
      "execution_count": 45,
      "outputs": [
        {
          "output_type": "stream",
          "text": [
            "/usr/local/lib/python3.6/dist-packages/numpy/core/numeric.py:544: UserWarning:\n",
            "\n",
            "Warning: converting a masked element to nan.\n",
            "\n"
          ],
          "name": "stderr"
        },
        {
          "output_type": "execute_result",
          "data": {
            "text/plain": [
              "Text(0.5,1,'Post- Box-Cox')"
            ]
          },
          "metadata": {
            "tags": []
          },
          "execution_count": 45
        },
        {
          "output_type": "display_data",
          "data": {
            "image/png": "[encoded data removed]",
            "text/plain": [
              "<matplotlib.figure.Figure at 0x7f4d2d8649b0>"
            ]
          },
          "metadata": {
            "tags": [],
            "image/png": {
              "width": 398,
              "height": 277
            }
          }
        }
      ]
    },
    {
      "metadata": {
        "id": "nnK7TEP8hUWi",
        "colab_type": "text"
      },
      "cell_type": "markdown",
      "source": [
        "From the above two, we found that the distribution is normalized which reduced the skewness as well as Kurtosis.\n"
      ]
    },
    {
      "metadata": {
        "id": "heYivowThRqL",
        "colab_type": "code",
        "colab": {
          "autoexec": {
            "startup": false,
            "wait_interval": 0
          },
          "base_uri": "https://localhost:8080/",
          "height": 1261
        },
        "outputId": "f2888e62-0d2a-4e1a-baea-d05e0e1ed7a0",
        "executionInfo": {
          "status": "error",
          "timestamp": 1523214304238,
          "user_tz": 240,
          "elapsed": 1473,
          "user": {
            "displayName": "Aahana Khajanchi",
            "photoUrl": "https://lh3.googleusercontent.com/a/default-user=s128",
            "userId": "111115529259210858043"
          }
        }
      },
      "cell_type": "code",
      "source": [
        "sns.jointplot(y=\"Kurtosis\", x=\"Skewness\", stat_func = None, data=X_norm_post_boxcox)"
      ],
      "execution_count": 47,
      "outputs": [
        {
          "output_type": "stream",
          "text": [
            "/usr/local/lib/python3.6/dist-packages/numpy/core/numeric.py:544: UserWarning:\n",
            "\n",
            "Warning: converting a masked element to nan.\n",
            "\n"
          ],
          "name": "stderr"
        },
        {
          "output_type": "error",
          "ename": "ValueError",
          "evalue": "ignored",
          "traceback": [
            "\u001b[0;31m---------------------------------------------------------------------------\u001b[0m",
            "\u001b[0;31mValueError\u001b[0m                                Traceback (most recent call last)",
            "\u001b[0;32m<ipython-input-47-5791f9cc3330>\u001b[0m in \u001b[0;36m<module>\u001b[0;34m()\u001b[0m\n\u001b[0;32m----> 1\u001b[0;31m \u001b[0msns\u001b[0m\u001b[0;34m.\u001b[0m\u001b[0mjointplot\u001b[0m\u001b[0;34m(\u001b[0m\u001b[0my\u001b[0m\u001b[0;34m=\u001b[0m\u001b[0;34m\"Kurtosis\"\u001b[0m\u001b[0;34m,\u001b[0m \u001b[0mx\u001b[0m\u001b[0;34m=\u001b[0m\u001b[0;34m\"Skewness\"\u001b[0m\u001b[0;34m,\u001b[0m \u001b[0mstat_func\u001b[0m \u001b[0;34m=\u001b[0m \u001b[0;32mNone\u001b[0m\u001b[0;34m,\u001b[0m \u001b[0mdata\u001b[0m\u001b[0;34m=\u001b[0m\u001b[0mX_norm_post_boxcox\u001b[0m\u001b[0;34m)\u001b[0m\u001b[0;34m\u001b[0m\u001b[0m\n\u001b[0m",
            "\u001b[0;32m/usr/local/lib/python3.6/dist-packages/seaborn/distributions.py\u001b[0m in \u001b[0;36mjointplot\u001b[0;34m(x, y, data, kind, stat_func, color, size, ratio, space, dropna, xlim, ylim, joint_kws, marginal_kws, annot_kws, **kwargs)\u001b[0m\n\u001b[1;32m    806\u001b[0m         \u001b[0mmarginal_kws\u001b[0m\u001b[0;34m.\u001b[0m\u001b[0msetdefault\u001b[0m\u001b[0;34m(\u001b[0m\u001b[0;34m\"kde\"\u001b[0m\u001b[0;34m,\u001b[0m \u001b[0;32mFalse\u001b[0m\u001b[0;34m)\u001b[0m\u001b[0;34m\u001b[0m\u001b[0m\n\u001b[1;32m    807\u001b[0m         \u001b[0mmarginal_kws\u001b[0m\u001b[0;34m.\u001b[0m\u001b[0msetdefault\u001b[0m\u001b[0;34m(\u001b[0m\u001b[0;34m\"color\"\u001b[0m\u001b[0;34m,\u001b[0m \u001b[0mcolor\u001b[0m\u001b[0;34m)\u001b[0m\u001b[0;34m\u001b[0m\u001b[0m\n\u001b[0;32m--> 808\u001b[0;31m         \u001b[0mgrid\u001b[0m\u001b[0;34m.\u001b[0m\u001b[0mplot_marginals\u001b[0m\u001b[0;34m(\u001b[0m\u001b[0mdistplot\u001b[0m\u001b[0;34m,\u001b[0m \u001b[0;34m**\u001b[0m\u001b[0mmarginal_kws\u001b[0m\u001b[0;34m)\u001b[0m\u001b[0;34m\u001b[0m\u001b[0m\n\u001b[0m\u001b[1;32m    809\u001b[0m \u001b[0;34m\u001b[0m\u001b[0m\n\u001b[1;32m    810\u001b[0m     \u001b[0;32melif\u001b[0m \u001b[0mkind\u001b[0m\u001b[0;34m.\u001b[0m\u001b[0mstartswith\u001b[0m\u001b[0;34m(\u001b[0m\u001b[0;34m\"hex\"\u001b[0m\u001b[0;34m)\u001b[0m\u001b[0;34m:\u001b[0m\u001b[0;34m\u001b[0m\u001b[0m\n",
            "\u001b[0;32m/usr/local/lib/python3.6/dist-packages/seaborn/axisgrid.py\u001b[0m in \u001b[0;36mplot_marginals\u001b[0;34m(self, func, **kwargs)\u001b[0m\n\u001b[1;32m   1754\u001b[0m         \u001b[0mkwargs\u001b[0m\u001b[0;34m[\u001b[0m\u001b[0;34m\"vertical\"\u001b[0m\u001b[0;34m]\u001b[0m \u001b[0;34m=\u001b[0m \u001b[0;32mTrue\u001b[0m\u001b[0;34m\u001b[0m\u001b[0m\n\u001b[1;32m   1755\u001b[0m         \u001b[0mplt\u001b[0m\u001b[0;34m.\u001b[0m\u001b[0msca\u001b[0m\u001b[0;34m(\u001b[0m\u001b[0mself\u001b[0m\u001b[0;34m.\u001b[0m\u001b[0max_marg_y\u001b[0m\u001b[0;34m)\u001b[0m\u001b[0;34m\u001b[0m\u001b[0m\n\u001b[0;32m-> 1756\u001b[0;31m         \u001b[0mfunc\u001b[0m\u001b[0;34m(\u001b[0m\u001b[0mself\u001b[0m\u001b[0;34m.\u001b[0m\u001b[0my\u001b[0m\u001b[0;34m,\u001b[0m \u001b[0;34m**\u001b[0m\u001b[0mkwargs\u001b[0m\u001b[0;34m)\u001b[0m\u001b[0;34m\u001b[0m\u001b[0m\n\u001b[0m\u001b[1;32m   1757\u001b[0m \u001b[0;34m\u001b[0m\u001b[0m\n\u001b[1;32m   1758\u001b[0m         \u001b[0;32mreturn\u001b[0m \u001b[0mself\u001b[0m\u001b[0;34m\u001b[0m\u001b[0m\n",
            "\u001b[0;32m/usr/local/lib/python3.6/dist-packages/seaborn/distributions.py\u001b[0m in \u001b[0;36mdistplot\u001b[0;34m(a, bins, hist, kde, rug, fit, hist_kws, kde_kws, rug_kws, fit_kws, color, vertical, norm_hist, axlabel, label, ax)\u001b[0m\n\u001b[1;32m    213\u001b[0m         \u001b[0mhist_color\u001b[0m \u001b[0;34m=\u001b[0m \u001b[0mhist_kws\u001b[0m\u001b[0;34m.\u001b[0m\u001b[0mpop\u001b[0m\u001b[0;34m(\u001b[0m\u001b[0;34m\"color\"\u001b[0m\u001b[0;34m,\u001b[0m \u001b[0mcolor\u001b[0m\u001b[0;34m)\u001b[0m\u001b[0;34m\u001b[0m\u001b[0m\n\u001b[1;32m    214\u001b[0m         ax.hist(a, bins, orientation=orientation,\n\u001b[0;32m--> 215\u001b[0;31m                 color=hist_color, **hist_kws)\n\u001b[0m\u001b[1;32m    216\u001b[0m         \u001b[0;32mif\u001b[0m \u001b[0mhist_color\u001b[0m \u001b[0;34m!=\u001b[0m \u001b[0mcolor\u001b[0m\u001b[0;34m:\u001b[0m\u001b[0;34m\u001b[0m\u001b[0m\n\u001b[1;32m    217\u001b[0m             \u001b[0mhist_kws\u001b[0m\u001b[0;34m[\u001b[0m\u001b[0;34m\"color\"\u001b[0m\u001b[0;34m]\u001b[0m \u001b[0;34m=\u001b[0m \u001b[0mhist_color\u001b[0m\u001b[0;34m\u001b[0m\u001b[0m\n",
            "\u001b[0;32m/usr/local/lib/python3.6/dist-packages/matplotlib/__init__.py\u001b[0m in \u001b[0;36minner\u001b[0;34m(ax, *args, **kwargs)\u001b[0m\n\u001b[1;32m   1715\u001b[0m                     warnings.warn(msg % (label_namer, func.__name__),\n\u001b[1;32m   1716\u001b[0m                                   RuntimeWarning, stacklevel=2)\n\u001b[0;32m-> 1717\u001b[0;31m             \u001b[0;32mreturn\u001b[0m \u001b[0mfunc\u001b[0m\u001b[0;34m(\u001b[0m\u001b[0max\u001b[0m\u001b[0;34m,\u001b[0m \u001b[0;34m*\u001b[0m\u001b[0margs\u001b[0m\u001b[0;34m,\u001b[0m \u001b[0;34m**\u001b[0m\u001b[0mkwargs\u001b[0m\u001b[0;34m)\u001b[0m\u001b[0;34m\u001b[0m\u001b[0m\n\u001b[0m\u001b[1;32m   1718\u001b[0m         \u001b[0mpre_doc\u001b[0m \u001b[0;34m=\u001b[0m \u001b[0minner\u001b[0m\u001b[0;34m.\u001b[0m\u001b[0m__doc__\u001b[0m\u001b[0;34m\u001b[0m\u001b[0m\n\u001b[1;32m   1719\u001b[0m         \u001b[0;32mif\u001b[0m \u001b[0mpre_doc\u001b[0m \u001b[0;32mis\u001b[0m \u001b[0;32mNone\u001b[0m\u001b[0;34m:\u001b[0m\u001b[0;34m\u001b[0m\u001b[0m\n",
            "\u001b[0;32m/usr/local/lib/python3.6/dist-packages/matplotlib/axes/_axes.py\u001b[0m in \u001b[0;36mhist\u001b[0;34m(***failed resolving arguments***)\u001b[0m\n\u001b[1;32m   6137\u001b[0m             \u001b[0mcolor\u001b[0m \u001b[0;34m=\u001b[0m \u001b[0mmcolors\u001b[0m\u001b[0;34m.\u001b[0m\u001b[0mto_rgba_array\u001b[0m\u001b[0;34m(\u001b[0m\u001b[0mcolor\u001b[0m\u001b[0;34m)\u001b[0m\u001b[0;34m\u001b[0m\u001b[0m\n\u001b[1;32m   6138\u001b[0m             \u001b[0;32mif\u001b[0m \u001b[0mlen\u001b[0m\u001b[0;34m(\u001b[0m\u001b[0mcolor\u001b[0m\u001b[0;34m)\u001b[0m \u001b[0;34m!=\u001b[0m \u001b[0mnx\u001b[0m\u001b[0;34m:\u001b[0m\u001b[0;34m\u001b[0m\u001b[0m\n\u001b[0;32m-> 6139\u001b[0;31m                 \u001b[0;32mraise\u001b[0m \u001b[0mValueError\u001b[0m\u001b[0;34m(\u001b[0m\u001b[0;34m\"color kwarg must have one color per dataset\"\u001b[0m\u001b[0;34m)\u001b[0m\u001b[0;34m\u001b[0m\u001b[0m\n\u001b[0m\u001b[1;32m   6140\u001b[0m \u001b[0;34m\u001b[0m\u001b[0m\n\u001b[1;32m   6141\u001b[0m         \u001b[0;31m# If bins are not specified either explicitly or via range,\u001b[0m\u001b[0;34m\u001b[0m\u001b[0;34m\u001b[0m\u001b[0m\n",
            "\u001b[0;31mValueError\u001b[0m: color kwarg must have one color per dataset"
          ]
        },
        {
          "output_type": "display_data",
          "data": {
            "image/png": "[encoded data removed]",
            "text/plain": [
              "<matplotlib.figure.Figure at 0x7f4d2d864f60>"
            ]
          },
          "metadata": {
            "tags": [],
            "image/png": {
              "width": 422,
              "height": 424
            }
          }
        }
      ]
    },
    {
      "metadata": {
        "id": "0aaxKhmkhyNB",
        "colab_type": "text"
      },
      "cell_type": "markdown",
      "source": [
        "We can observe the biggest bars are located in the region [0,1) for skewness and [0,-3) for kurtosis.\n",
        "\n",
        "At this point, we can remove the predictors that have high skewness (> 3) or high kurtosis (> 1). However, as predictor corresponds to RSSI distribution of a single WAP, there might be samples for which one or more of these WAPs might be the closest and correspondingly have the highest measure. For this purpose, I do not perform any predictor selection at this stage.\n",
        "\n",
        "Instead, we can explore how much of the variance in the dataset is explained by the predictors using Principal Component Analysis (PCA)."
      ]
    },
    {
      "metadata": {
        "id": "dx6ezxC430T5",
        "colab_type": "text"
      },
      "cell_type": "markdown",
      "source": [
        "# Dimensionality Reduction <a id = \"dimension-reduction\"></a>\n",
        "Dimensionality reduction is one of the key techniques to reduce the complexity.\n",
        "\n",
        "PCA is a simple dimensionality reduction technique that applies linear transformations on the original space. Among all the orthogonal linear projections, PCA minimizes the reconstruction error, which is the distance between the instance and its reconstruction from the lower-dimensional space. That is sum of the distances between points in original space and the corresponding points in lower-dimensional space.\n",
        "\n",
        "Before we can perform the PCA analysis, we need to bring the predictors to the same scale. Then, we analyze the correlations between the predictors and remove highly correlated predictors. This is because adjoining nearly correlated variables increases the contribution of their common underlying factor to the PCA. We can remove highly correlated predictors algorithmically or removing the correlations by whitening the data (conversion to Identity Covariance Matrix)."
      ]
    },
    {
      "metadata": {
        "id": "ccRe3TrBhWak",
        "colab_type": "code",
        "colab": {
          "autoexec": {
            "startup": false,
            "wait_interval": 0
          },
          "base_uri": "https://localhost:8080/",
          "height": 104
        },
        "outputId": "c3d3c419-e1a0-46af-ee2a-33cb0fb9fa85",
        "executionInfo": {
          "status": "ok",
          "timestamp": 1523214313436,
          "user_tz": 240,
          "elapsed": 519,
          "user": {
            "displayName": "Aahana Khajanchi",
            "photoUrl": "https://lh3.googleusercontent.com/a/default-user=s128",
            "userId": "111115529259210858043"
          }
        }
      },
      "cell_type": "code",
      "source": [
        "\n",
        "from sklearn.preprocessing import StandardScaler\n",
        "\n",
        "sc = StandardScaler()\n",
        "X_std_train = sc.fit_transform(X_boxcox_train)\n",
        "X_std_test = sc.transform(X_boxcox_test)\n",
        "\n",
        "X_std_train = pd.DataFrame(X_std_train)\n",
        "X_std_test = pd.DataFrame(X_std_test)"
      ],
      "execution_count": 48,
      "outputs": [
        {
          "output_type": "stream",
          "text": [
            "/usr/local/lib/python3.6/dist-packages/numpy/core/_methods.py:117: RuntimeWarning:\n",
            "\n",
            "overflow encountered in reduce\n",
            "\n"
          ],
          "name": "stderr"
        }
      ]
    },
    {
      "metadata": {
        "id": "HoSGDh2fk0NH",
        "colab_type": "code",
        "colab": {
          "autoexec": {
            "startup": false,
            "wait_interval": 0
          },
          "base_uri": "https://localhost:8080/",
          "height": 34
        },
        "outputId": "263dcfb4-4602-4d35-950e-4d58be6a33d8",
        "executionInfo": {
          "status": "ok",
          "timestamp": 1523214315613,
          "user_tz": 240,
          "elapsed": 413,
          "user": {
            "displayName": "Aahana Khajanchi",
            "photoUrl": "https://lh3.googleusercontent.com/a/default-user=s128",
            "userId": "111115529259210858043"
          }
        }
      },
      "cell_type": "code",
      "source": [
        "X_std_train.shape, X_std_test.shape"
      ],
      "execution_count": 49,
      "outputs": [
        {
          "output_type": "execute_result",
          "data": {
            "text/plain": [
              "((19861, 465), (1111, 465))"
            ]
          },
          "metadata": {
            "tags": []
          },
          "execution_count": 49
        }
      ]
    },
    {
      "metadata": {
        "id": "Amf5A3y_9-wW",
        "colab_type": "code",
        "colab": {
          "autoexec": {
            "startup": false,
            "wait_interval": 0
          },
          "base_uri": "https://localhost:8080/",
          "height": 34
        },
        "outputId": "8431777e-10dc-4635-e36a-f53e03ac54c1",
        "executionInfo": {
          "status": "ok",
          "timestamp": 1523199837205,
          "user_tz": 240,
          "elapsed": 454,
          "user": {
            "displayName": "Aahana Khajanchi",
            "photoUrl": "https://lh3.googleusercontent.com/a/default-user=s128",
            "userId": "111115529259210858043"
          }
        }
      },
      "cell_type": "code",
      "source": [
        "\n",
        "X_std_train.shape, X_std_test.shape"
      ],
      "execution_count": 46,
      "outputs": [
        {
          "output_type": "execute_result",
          "data": {
            "text/plain": [
              "((19861, 465), (1111, 465))"
            ]
          },
          "metadata": {
            "tags": []
          },
          "execution_count": 46
        }
      ]
    },
    {
      "metadata": {
        "id": "o8LTrscsk4GT",
        "colab_type": "code",
        "colab": {
          "autoexec": {
            "startup": false,
            "wait_interval": 0
          },
          "base_uri": "https://localhost:8080/",
          "height": 353
        },
        "outputId": "ca5c65a5-1b20-4747-d660-3ab6a49825ad",
        "executionInfo": {
          "status": "ok",
          "timestamp": 1523214331392,
          "user_tz": 240,
          "elapsed": 411,
          "user": {
            "displayName": "Aahana Khajanchi",
            "photoUrl": "https://lh3.googleusercontent.com/a/default-user=s128",
            "userId": "111115529259210858043"
          }
        }
      },
      "cell_type": "code",
      "source": [
        "all_zero= ((X_std_train == 0) \n",
        "           .all()==False)\n",
        "\n",
        "all_zero[all_zero].index.values"
      ],
      "execution_count": 51,
      "outputs": [
        {
          "output_type": "execute_result",
          "data": {
            "text/plain": [
              "array([  4,   5,   6,   8,   9,  10,  11,  12,  13,  16,  17,  20,  21,\n",
              "        22,  23,  24,  25,  26,  27,  28,  29,  30,  31,  32,  33,  34,\n",
              "        35,  36,  37,  38,  39,  40,  41,  42,  43,  44,  45,  46,  47,\n",
              "        48,  49,  50,  51,  54,  55,  56,  57,  58,  59,  60,  61,  62,\n",
              "        63,  64,  65,  66,  67,  70,  71,  72,  73,  74,  75,  77,  78,\n",
              "        79,  80,  81,  82,  84,  85,  86,  87,  88,  89,  90,  91,  92,\n",
              "        94,  95,  96,  97,  98,  99, 100, 101, 102, 103, 104, 105, 106,\n",
              "       107, 108, 109, 110, 111, 112, 113, 114, 115, 116, 117, 118, 119,\n",
              "       120, 121, 122, 123, 124, 125, 127, 128, 129, 130, 131, 132, 133,\n",
              "       134, 135, 136, 137, 138, 139, 140, 141, 142, 143, 144, 146, 147,\n",
              "       148, 150, 151, 153, 154, 155, 156, 157, 158, 159, 160, 161, 162,\n",
              "       163, 164, 165, 166, 167, 168, 169, 170, 171, 172, 173, 174, 175,\n",
              "       176, 177, 178, 180, 181, 192, 193, 209, 210, 211, 212, 223, 224,\n",
              "       228, 229, 230, 231, 232, 233, 234, 235, 236, 237, 242, 248, 251,\n",
              "       252, 253, 256, 258, 260, 262, 263, 267, 268, 278, 279, 280, 281,\n",
              "       282, 283, 284, 285, 286, 291, 297, 300, 301, 302, 303, 305, 307,\n",
              "       309, 311, 312, 313, 316, 317, 329, 330, 331, 332, 333, 334, 335,\n",
              "       337, 338, 343, 349, 352, 353, 354, 357, 359, 361, 363, 364, 367,\n",
              "       368, 388, 392, 404, 408, 429, 430, 432, 433, 434, 435, 436, 441,\n",
              "       442, 446, 447, 448, 456, 461, 462])"
            ]
          },
          "metadata": {
            "tags": []
          },
          "execution_count": 51
        }
      ]
    },
    {
      "metadata": {
        "id": "bLcPGGVt98AO",
        "colab_type": "code",
        "colab": {
          "autoexec": {
            "startup": false,
            "wait_interval": 0
          },
          "base_uri": "https://localhost:8080/",
          "height": 34
        },
        "outputId": "e757b428-d641-4e5e-c4ba-b0524bf4048f",
        "executionInfo": {
          "status": "ok",
          "timestamp": 1523214335162,
          "user_tz": 240,
          "elapsed": 399,
          "user": {
            "displayName": "Aahana Khajanchi",
            "photoUrl": "https://lh3.googleusercontent.com/a/default-user=s128",
            "userId": "111115529259210858043"
          }
        }
      },
      "cell_type": "code",
      "source": [
        "# The no. of columns having zero values\n",
        "(X_std_train == 0).all().sum()"
      ],
      "execution_count": 52,
      "outputs": [
        {
          "output_type": "execute_result",
          "data": {
            "text/plain": [
              "211"
            ]
          },
          "metadata": {
            "tags": []
          },
          "execution_count": 52
        }
      ]
    },
    {
      "metadata": {
        "id": "nlQ16xL0k8OU",
        "colab_type": "code",
        "colab": {
          "autoexec": {
            "startup": false,
            "wait_interval": 0
          },
          "base_uri": "https://localhost:8080/",
          "height": 51
        },
        "outputId": "db06c82b-e053-4de4-8bdd-7bb59eced9aa",
        "executionInfo": {
          "status": "ok",
          "timestamp": 1523214338984,
          "user_tz": 240,
          "elapsed": 440,
          "user": {
            "displayName": "Aahana Khajanchi",
            "photoUrl": "https://lh3.googleusercontent.com/a/default-user=s128",
            "userId": "111115529259210858043"
          }
        }
      },
      "cell_type": "code",
      "source": [
        "#After the Box-Cox transformation and scaling, few of the predictors are reduced to a constant value of 0\n",
        "# Let's remove these predictors from the training and test data\n",
        "all_zero= ((X_std_train == 0) \n",
        "           .all()==False)\n",
        "filtered_cols = (all_zero[all_zero]\n",
        "                 .index\n",
        "                 .values)\n",
        "\n",
        "print(\"Before removing predictors with only zeros\", X_std_train.shape)\n",
        "\n",
        "X_rm_train = X_std_train.loc[:,filtered_cols]\n",
        "X_rm_test = X_std_test.loc[:,filtered_cols]\n",
        "\n",
        "print(\"After removing predictors with only zeros\", X_rm_train.shape)"
      ],
      "execution_count": 53,
      "outputs": [
        {
          "output_type": "stream",
          "text": [
            "Before removing predictors with only zeros (19861, 465)\n",
            "After removing predictors with only zeros (19861, 254)\n"
          ],
          "name": "stdout"
        }
      ]
    },
    {
      "metadata": {
        "id": "9cOUEtVv-lov",
        "colab_type": "text"
      },
      "cell_type": "markdown",
      "source": [
        "# Predictor Correlations "
      ]
    },
    {
      "metadata": {
        "id": "UQlhoeL6-miO",
        "colab_type": "code",
        "colab": {
          "autoexec": {
            "startup": false,
            "wait_interval": 0
          },
          "base_uri": "https://localhost:8080/",
          "height": 883
        },
        "outputId": "786e0fdb-f12c-4db1-9552-927cf3a4cae1",
        "executionInfo": {
          "status": "ok",
          "timestamp": 1523214350786,
          "user_tz": 240,
          "elapsed": 4478,
          "user": {
            "displayName": "Aahana Khajanchi",
            "photoUrl": "https://lh3.googleusercontent.com/a/default-user=s128",
            "userId": "111115529259210858043"
          }
        }
      },
      "cell_type": "code",
      "source": [
        "\n",
        "X_train_corr = X_rm_train.corr()\n",
        "\n",
        "fig = plt.figure(figsize=(15,15))\n",
        "sns.heatmap(X_train_corr,xticklabels=False, yticklabels=False)"
      ],
      "execution_count": 54,
      "outputs": [
        {
          "output_type": "execute_result",
          "data": {
            "text/plain": [
              "<matplotlib.axes._subplots.AxesSubplot at 0x7f4d32fc7860>"
            ]
          },
          "metadata": {
            "tags": []
          },
          "execution_count": 54
        },
        {
          "output_type": "display_data",
          "data": {
            "image/png": "[encoded data removed]",
            "text/plain": [
              "<matplotlib.figure.Figure at 0x7f4d32edc1d0>"
            ]
          },
          "metadata": {
            "tags": [],
            "image/png": {
              "width": 793,
              "height": 829
            }
          }
        }
      ]
    },
    {
      "metadata": {
        "id": "yN-2R3sR__6d",
        "colab_type": "text"
      },
      "cell_type": "markdown",
      "source": [
        "Clearly, we observe clusters of predictors that are highly correlated. Let's assign a threshold of 0.8 and see how many predictor pairs have correlation above this threshold"
      ]
    },
    {
      "metadata": {
        "id": "k09TMQSB_z4Y",
        "colab_type": "code",
        "colab": {
          "autoexec": {
            "startup": false,
            "wait_interval": 0
          },
          "base_uri": "https://localhost:8080/",
          "height": 34
        },
        "outputId": "51ddd60b-3cb9-4452-dc9b-6bd9c322a533",
        "executionInfo": {
          "status": "ok",
          "timestamp": 1523214358851,
          "user_tz": 240,
          "elapsed": 486,
          "user": {
            "displayName": "Aahana Khajanchi",
            "photoUrl": "https://lh3.googleusercontent.com/a/default-user=s128",
            "userId": "111115529259210858043"
          }
        }
      },
      "cell_type": "code",
      "source": [
        "corr_stack = X_train_corr.stack()\n",
        "corr_thresh = 0.9\n",
        "\n",
        "# Total entries in correlation matrix above threshold\n",
        "Nthresh = (abs(corr_stack) >= corr_thresh).sum()\n",
        "\n",
        "# Subtracting the correlation of predictor with themselves which is equal to 1\n",
        "Nthresh -= 254\n",
        "\n",
        "# Pairwise correlations appear twice in the matrix\n",
        "Nthresh *= 0.5\n",
        "\n",
        "Nthresh"
      ],
      "execution_count": 55,
      "outputs": [
        {
          "output_type": "execute_result",
          "data": {
            "text/plain": [
              "16.0"
            ]
          },
          "metadata": {
            "tags": []
          },
          "execution_count": 55
        }
      ]
    },
    {
      "metadata": {
        "id": "1XQh7jNABT7v",
        "colab_type": "code",
        "colab": {
          "autoexec": {
            "startup": false,
            "wait_interval": 0
          },
          "base_uri": "https://localhost:8080/",
          "height": 34
        },
        "outputId": "720aeaa8-45b7-41ae-feb6-82e5d32e2055",
        "executionInfo": {
          "status": "ok",
          "timestamp": 1523214364824,
          "user_tz": 240,
          "elapsed": 566,
          "user": {
            "displayName": "Aahana Khajanchi",
            "photoUrl": "https://lh3.googleusercontent.com/a/default-user=s128",
            "userId": "111115529259210858043"
          }
        }
      },
      "cell_type": "code",
      "source": [
        "X_train_corr.shape"
      ],
      "execution_count": 56,
      "outputs": [
        {
          "output_type": "execute_result",
          "data": {
            "text/plain": [
              "(254, 254)"
            ]
          },
          "metadata": {
            "tags": []
          },
          "execution_count": 56
        }
      ]
    },
    {
      "metadata": {
        "id": "_sOMAFxDzeAh",
        "colab_type": "text"
      },
      "cell_type": "markdown",
      "source": [
        "\n",
        "## Principal Component Analysis (PCA) <a id = \"pca\"></a>\n",
        "Dimensionality reduction is one of the key techniques to reduce the complexity.\n",
        "\n",
        "PCA is a simple dimensionality reduction technique that applies linear transformations on the original space. Among all the orthogonal linear projections, PCA minimizes the reconstruction error, which is the distance between the instance and its reconstruction from the lower-dimensional space. That is sum of the distances between points in original space and the corresponding points in lower-dimensional space.\n",
        "\n",
        "An important point to remember about PCA is that it is an unsupervised form of dimensionality reduction. This means the response variables are not taken into consideration at any point of the transformation. sci-kit learn provides convenient methods to perform PCA which I'll be using directly."
      ]
    },
    {
      "metadata": {
        "id": "XWUK5I0lCzrh",
        "colab_type": "code",
        "colab": {
          "autoexec": {
            "startup": false,
            "wait_interval": 0
          },
          "base_uri": "https://localhost:8080/",
          "height": 71
        },
        "outputId": "6f2696c8-10a8-4379-9407-bea61076a62a",
        "executionInfo": {
          "status": "ok",
          "timestamp": 1523214381371,
          "user_tz": 240,
          "elapsed": 985,
          "user": {
            "displayName": "Aahana Khajanchi",
            "photoUrl": "https://lh3.googleusercontent.com/a/default-user=s128",
            "userId": "111115529259210858043"
          }
        }
      },
      "cell_type": "code",
      "source": [
        "from sklearn.decomposition import PCA\n",
        "\n",
        "pca = PCA()\n",
        "pca.fit(X_rm_train)"
      ],
      "execution_count": 57,
      "outputs": [
        {
          "output_type": "execute_result",
          "data": {
            "text/plain": [
              "PCA(copy=True, iterated_power='auto', n_components=None, random_state=None,\n",
              "  svd_solver='auto', tol=0.0, whiten=False)"
            ]
          },
          "metadata": {
            "tags": []
          },
          "execution_count": 57
        }
      ]
    },
    {
      "metadata": {
        "id": "mCcgKUMuqE3m",
        "colab_type": "text"
      },
      "cell_type": "markdown",
      "source": [
        "The pca.explained_variance_ratio_ parameter returns a vector of the variance explained by each dimension. Thus pca.explained_variance_ratio_[i] gives the variance explained solely by the i+1st dimension.\n",
        "\n",
        "We will do pca.explained_variance_ratio_.cumsum(). That will return a vector x such that x[i] returns the cumulative variance explained by the first i+1 dimensions."
      ]
    },
    {
      "metadata": {
        "id": "4wZh7H09zmtY",
        "colab_type": "code",
        "colab": {
          "autoexec": {
            "startup": false,
            "wait_interval": 0
          },
          "base_uri": "https://localhost:8080/",
          "height": 464
        },
        "outputId": "7a28a5f8-d828-4d1b-9861-b77e81bb0630",
        "executionInfo": {
          "status": "ok",
          "timestamp": 1523214703562,
          "user_tz": 240,
          "elapsed": 1003,
          "user": {
            "displayName": "Aahana Khajanchi",
            "photoUrl": "https://lh3.googleusercontent.com/a/default-user=s128",
            "userId": "111115529259210858043"
          }
        }
      },
      "cell_type": "code",
      "source": [
        "fig, ax = plt.subplots(1,1)\n",
        "\n",
        "ax.bar(range(1, 255), pca.explained_variance_ratio_, alpha=0.5, align='center')\n",
        "ax.step(range(1, 255), np.cumsum(pca.explained_variance_ratio_), where='mid')  \n",
        "ax.set_ylabel('Explained variance ratio')\n",
        "ax.set_xlabel('Principal components')\n",
        "ax.set_yticks(np.arange(0,1.1,0.1))     #np.arange(start, end, step)"
      ],
      "execution_count": 62,
      "outputs": [
        {
          "output_type": "execute_result",
          "data": {
            "text/plain": [
              "[<matplotlib.axis.YTick at 0x7f4d3d88ab38>,\n",
              " <matplotlib.axis.YTick at 0x7f4d3d79f0f0>,\n",
              " <matplotlib.axis.YTick at 0x7f4d3d9f5f28>,\n",
              " <matplotlib.axis.YTick at 0x7f4d41bfaef0>,\n",
              " <matplotlib.axis.YTick at 0x7f4d41bfa7b8>,\n",
              " <matplotlib.axis.YTick at 0x7f4d41bfa048>,\n",
              " <matplotlib.axis.YTick at 0x7f4d41ce5860>,\n",
              " <matplotlib.axis.YTick at 0x7f4d41ce50f0>,\n",
              " <matplotlib.axis.YTick at 0x7f4d41dd1940>,\n",
              " <matplotlib.axis.YTick at 0x7f4d41dd11d0>,\n",
              " <matplotlib.axis.YTick at 0x7f4d41f3c9e8>]"
            ]
          },
          "metadata": {
            "tags": []
          },
          "execution_count": 62
        },
        {
          "output_type": "display_data",
          "data": {
            "image/png": "[encoded data removed]",
            "text/plain": [
              "<matplotlib.figure.Figure at 0x7f4d3b53ce48>"
            ]
          },
          "metadata": {
            "tags": [],
            "image/png": {
              "width": 384,
              "height": 262
            }
          }
        }
      ]
    },
    {
      "metadata": {
        "id": "NX5J3z0a6_mH",
        "colab_type": "text"
      },
      "cell_type": "markdown",
      "source": [
        "Roughly 95% of the variance is explained by first 150 eigen vectors. Before, we perform the dimensionality reduction on our data, let's analyze the reconstruction error as a function of the dimensions."
      ]
    },
    {
      "metadata": {
        "id": "0rm6r5Eoz6ao",
        "colab_type": "code",
        "colab": {
          "autoexec": {
            "startup": false,
            "wait_interval": 0
          }
        }
      },
      "cell_type": "code",
      "source": [
        "X_rm_train = np.array(X_rm_train)\n",
        "mu = np.mean(X_rm_train,axis = 0)\n",
        "\n",
        "recon_error = []\n",
        "for nComp in range(1,X_rm_train.shape[1]):\n",
        "    #pca.components_ is already sorted by explained variance\n",
        "    Xrecon = np.dot(pca.transform(X_rm_train)[:,:nComp], pca.components_[:nComp,:])\n",
        "    Xrecon += mu\n",
        "    recon_error.append(sum(np.ravel(np.abs(Xrecon- X_rm_train)**2)))"
      ],
      "execution_count": 0,
      "outputs": []
    },
    {
      "metadata": {
        "id": "l7k5GNWx61_i",
        "colab_type": "code",
        "colab": {
          "autoexec": {
            "startup": false,
            "wait_interval": 0
          },
          "base_uri": "https://localhost:8080/",
          "height": 296
        },
        "outputId": "4e37b5ce-5821-4520-e610-a066177c91a1",
        "executionInfo": {
          "status": "ok",
          "timestamp": 1523215854188,
          "user_tz": 240,
          "elapsed": 744,
          "user": {
            "displayName": "Aahana Khajanchi",
            "photoUrl": "https://lh3.googleusercontent.com/a/default-user=s128",
            "userId": "111115529259210858043"
          }
        }
      },
      "cell_type": "code",
      "source": [
        "pd.Series(recon_error).plot()\n",
        "plt.xlabel(\"Number of Eigen Vectors\")\n",
        "plt.ylabel(\"Reconstruction Error\")"
      ],
      "execution_count": 64,
      "outputs": [
        {
          "output_type": "execute_result",
          "data": {
            "text/plain": [
              "Text(0,0.5,'Reconstruction Error')"
            ]
          },
          "metadata": {
            "tags": []
          },
          "execution_count": 64
        },
        {
          "output_type": "display_data",
          "data": {
            "image/png": "[encoded data removed]",
            "text/plain": [
              "<matplotlib.figure.Figure at 0x7f4d3df0da90>"
            ]
          },
          "metadata": {
            "tags": [],
            "image/png": {
              "width": 409,
              "height": 262
            }
          }
        }
      ]
    },
    {
      "metadata": {
        "id": "z4slIdR07xAl",
        "colab_type": "text"
      },
      "cell_type": "markdown",
      "source": [
        "As the number of principal components used for the reconstruction increases, the reconstruction error expectedly decreases. This figure is a mirror image of the previous explained variance ratio figure.\n",
        "\n",
        "As 95% of the explained variance is explained by top 150 components, we have reduced training and test data to 150 dimensions."
      ]
    },
    {
      "metadata": {
        "id": "2P4ksk9V7q56",
        "colab_type": "code",
        "colab": {
          "autoexec": {
            "startup": false,
            "wait_interval": 0
          },
          "base_uri": "https://localhost:8080/",
          "height": 34
        },
        "outputId": "ad07f70e-1e4e-42e9-d052-3881ba1d4109",
        "executionInfo": {
          "status": "ok",
          "timestamp": 1523215873591,
          "user_tz": 240,
          "elapsed": 369,
          "user": {
            "displayName": "Aahana Khajanchi",
            "photoUrl": "https://lh3.googleusercontent.com/a/default-user=s128",
            "userId": "111115529259210858043"
          }
        }
      },
      "cell_type": "code",
      "source": [
        "Ndim_reduce = 150\n",
        "X_train_pca = pca.transform(X_rm_train)[:,:Ndim_reduce]\n",
        "X_test_pca = pca.transform(X_rm_test)[:,:Ndim_reduce]\n",
        "\n",
        "X_train_pca.shape,X_test_pca.shape\n",
        "\n",
        "\n",
        "\n"
      ],
      "execution_count": 65,
      "outputs": [
        {
          "output_type": "execute_result",
          "data": {
            "text/plain": [
              "((19861, 150), (1111, 150))"
            ]
          },
          "metadata": {
            "tags": []
          },
          "execution_count": 65
        }
      ]
    },
    {
      "metadata": {
        "id": "qrQlQA4y9z-l",
        "colab_type": "code",
        "colab": {
          "autoexec": {
            "startup": false,
            "wait_interval": 0
          }
        }
      },
      "cell_type": "code",
      "source": [
        "import pickle"
      ],
      "execution_count": 0,
      "outputs": []
    },
    {
      "metadata": {
        "id": "PLUkHhE1785f",
        "colab_type": "code",
        "colab": {
          "autoexec": {
            "startup": false,
            "wait_interval": 0
          }
        }
      },
      "cell_type": "code",
      "source": [
        "\n",
        "# First, let's save our data into a file\n",
        "f = open(\"data_after_PCA.pckl\", \"wb\")\n",
        "pickle.dump(X_train_pca,f)\n",
        "pickle.dump(y_train,f)\n",
        "pickle.dump(X_test_pca,f)\n",
        "pickle.dump(y_test,f)"
      ],
      "execution_count": 0,
      "outputs": []
    },
    {
      "metadata": {
        "id": "h58cBfzY9s42",
        "colab_type": "code",
        "colab": {
          "autoexec": {
            "startup": false,
            "wait_interval": 0
          },
          "base_uri": "https://localhost:8080/",
          "height": 34
        },
        "outputId": "f5c883ad-2d14-41cf-8347-d9e0fe2fe371",
        "executionInfo": {
          "status": "ok",
          "timestamp": 1523216714298,
          "user_tz": 240,
          "elapsed": 481,
          "user": {
            "displayName": "Aahana Khajanchi",
            "photoUrl": "https://lh3.googleusercontent.com/a/default-user=s128",
            "userId": "111115529259210858043"
          }
        }
      },
      "cell_type": "code",
      "source": [
        "from sklearn.cross_validation import train_test_split\n",
        "crossval_raw_df, holdout_raw_df = train_test_split(X_raw_train, test_size = 0.1,random_state = 1)  # X_raw_train.shape, X_raw_test.shape - ((19861, 465), (1111, 465))\n",
        "\n",
        "crossval_raw_df.shape, holdout_raw_df.shape # splitted data into training and testing"
      ],
      "execution_count": 69,
      "outputs": [
        {
          "output_type": "execute_result",
          "data": {
            "text/plain": [
              "((17874, 465), (1987, 465))"
            ]
          },
          "metadata": {
            "tags": []
          },
          "execution_count": 69
        }
      ]
    },
    {
      "metadata": {
        "id": "GREG5N2JEHko",
        "colab_type": "code",
        "colab": {
          "autoexec": {
            "startup": false,
            "wait_interval": 0
          }
        }
      },
      "cell_type": "code",
      "source": [
        "crossval_raw_df.to_csv(\"X_raw_crossval.csv\",na_rep = 'NaN')\n",
        "holdout_raw_df.to_csv(\"X_raw_holdout.csv\",na_rep = 'NaN')"
      ],
      "execution_count": 0,
      "outputs": []
    },
    {
      "metadata": {
        "id": "C4RJ1PhFqohv",
        "colab_type": "code",
        "colab": {
          "autoexec": {
            "startup": false,
            "wait_interval": 0
          },
          "base_uri": "https://localhost:8080/",
          "height": 34
        },
        "outputId": "1ee94685-9ca1-4b5b-83b1-b42aa3838ae4",
        "executionInfo": {
          "status": "ok",
          "timestamp": 1523216757117,
          "user_tz": 240,
          "elapsed": 336,
          "user": {
            "displayName": "Aahana Khajanchi",
            "photoUrl": "https://lh3.googleusercontent.com/a/default-user=s128",
            "userId": "111115529259210858043"
          }
        }
      },
      "cell_type": "code",
      "source": [
        "# splitted data of X_train_pca.shape - (19861, 150)\n",
        "crossval_pca_df, holdout_pca_df = train_test_split(X_train_pca, test_size = 0.1,random_state = 1)\n",
        "\n",
        "crossval_pca_df.shape,holdout_pca_df.shape"
      ],
      "execution_count": 71,
      "outputs": [
        {
          "output_type": "execute_result",
          "data": {
            "text/plain": [
              "((17874, 150), (1987, 150))"
            ]
          },
          "metadata": {
            "tags": []
          },
          "execution_count": 71
        }
      ]
    },
    {
      "metadata": {
        "id": "sjvnrv4gqoZg",
        "colab_type": "code",
        "colab": {
          "autoexec": {
            "startup": false,
            "wait_interval": 0
          }
        }
      },
      "cell_type": "code",
      "source": [
        "crossval_pca_df = pd.DataFrame(crossval_pca_df,index=crossval_raw_df.index)\n",
        "holdout_pca_df = pd.DataFrame(holdout_pca_df,index=holdout_raw_df.index)\n",
        "\n",
        "pd.DataFrame(crossval_pca_df).to_csv(\"X_pca_crossval.csv\",na_rep = 'NaN')\n",
        "pd.DataFrame(holdout_pca_df).to_csv(\"X_pca_holdout.csv\",na_rep = 'NaN')"
      ],
      "execution_count": 0,
      "outputs": []
    },
    {
      "metadata": {
        "id": "KDTcMisYqtfL",
        "colab_type": "code",
        "colab": {
          "autoexec": {
            "startup": false,
            "wait_interval": 0
          },
          "base_uri": "https://localhost:8080/",
          "height": 34
        },
        "outputId": "9c505ba4-deb6-44cf-a032-ab0be04b9599",
        "executionInfo": {
          "status": "ok",
          "timestamp": 1523217121746,
          "user_tz": 240,
          "elapsed": 384,
          "user": {
            "displayName": "Aahana Khajanchi",
            "photoUrl": "https://lh3.googleusercontent.com/a/default-user=s128",
            "userId": "111115529259210858043"
          }
        }
      },
      "cell_type": "code",
      "source": [
        "# y_train consist of FLOOR,\tBUILDINGID, SPACEID,\tRELATIVEPOSITION,\tUSERID,\tPHONEID these columns.\n",
        "# splitting the data\n",
        "y_crossval, y_holdout = train_test_split(y_train, test_size = 0.1,random_state = 1)\n",
        "\n",
        "y_crossval.shape, y_holdout.shape"
      ],
      "execution_count": 74,
      "outputs": [
        {
          "output_type": "execute_result",
          "data": {
            "text/plain": [
              "((17874, 6), (1987, 6))"
            ]
          },
          "metadata": {
            "tags": []
          },
          "execution_count": 74
        }
      ]
    },
    {
      "metadata": {
        "id": "eax0ASLfqtcS",
        "colab_type": "code",
        "colab": {
          "autoexec": {
            "startup": false,
            "wait_interval": 0
          }
        }
      },
      "cell_type": "code",
      "source": [
        "y_crossval.to_csv(\"y_crossval.csv\",na_rep = 'NaN')\n",
        "y_holdout.to_csv(\"y_holdout.csv\",na_rep = 'NaN')"
      ],
      "execution_count": 0,
      "outputs": []
    },
    {
      "metadata": {
        "id": "w_aExLZ5qtZa",
        "colab_type": "code",
        "colab": {
          "autoexec": {
            "startup": false,
            "wait_interval": 0
          }
        }
      },
      "cell_type": "code",
      "source": [
        "X_raw_test.to_csv(\"X_raw_test.csv\", na_rep= 'NaN')\n",
        "pd.DataFrame(X_test_pca).to_csv(\"X_pca_test.csv\",na_rep = 'NaN')\n"
      ],
      "execution_count": 0,
      "outputs": []
    },
    {
      "metadata": {
        "id": "E1xyTZnS2pn5",
        "colab_type": "code",
        "colab": {
          "autoexec": {
            "startup": false,
            "wait_interval": 0
          },
          "base_uri": "https://localhost:8080/",
          "height": 148
        },
        "outputId": "385075a9-c156-4d8c-e8b6-ebd901236cbc",
        "executionInfo": {
          "status": "error",
          "timestamp": 1523218813834,
          "user_tz": 240,
          "elapsed": 428,
          "user": {
            "displayName": "Aahana Khajanchi",
            "photoUrl": "https://lh3.googleusercontent.com/a/default-user=s128",
            "userId": "111115529259210858043"
          }
        }
      },
      "cell_type": "code",
      "source": [
        "/*\n",
        "X_pca_crossval = pd.read_csv(\"data/X_pca_crossval.csv\",index_col=0)\n",
        "y_crossval = pd.read_csv(\"data/y_crossval.csv\",index_col=0)\n",
        "\n",
        "X_pca_holdout = pd.read_csv(\"data/X_pca_holdout.csv\",index_col=0)\n",
        "y_holdout = pd.read_csv(\"data/y_holdout.csv\",index_col=0)\n",
        "\n",
        "X_raw_crossval = pd.read_csv(\"data/X_raw_crossval.csv\",index_col=0)\n",
        "X_raw_holdout = pd.read_csv(\"data/X_raw_holdout.csv\",index_col=0)\n",
        "\n",
        "X_pca_crossval.shape,y_crossval.shape,X_pca_holdout.shape,y_holdout.shape*/"
      ],
      "execution_count": 89,
      "outputs": [
        {
          "output_type": "error",
          "ename": "SyntaxError",
          "evalue": "ignored",
          "traceback": [
            "\u001b[0;36m  File \u001b[0;32m\"<ipython-input-89-cca0637fd723>\"\u001b[0;36m, line \u001b[0;32m11\u001b[0m\n\u001b[0;31m    X_pca_crossval.shape,y_crossval.shape,X_pca_holdout.shape,y_holdout.shape*/\u001b[0m\n\u001b[0m                                                                              ^\u001b[0m\n\u001b[0;31mSyntaxError\u001b[0m\u001b[0;31m:\u001b[0m invalid syntax\n"
          ]
        }
      ]
    },
    {
      "metadata": {
        "id": "e-ZIrAES3uN-",
        "colab_type": "code",
        "colab": {
          "autoexec": {
            "startup": false,
            "wait_interval": 0
          },
          "base_uri": "https://localhost:8080/",
          "height": 34
        },
        "outputId": "e63c5f10-c587-4c23-afb4-701133fd02f8",
        "executionInfo": {
          "status": "ok",
          "timestamp": 1523218530781,
          "user_tz": 240,
          "elapsed": 349,
          "user": {
            "displayName": "Aahana Khajanchi",
            "photoUrl": "https://lh3.googleusercontent.com/a/default-user=s128",
            "userId": "111115529259210858043"
          }
        }
      },
      "cell_type": "code",
      "source": [
        "\n",
        "crossval_pca_df.shape, holdout_pca_df.shape,  y_crossval.shape, y_holdout.shape"
      ],
      "execution_count": 82,
      "outputs": [
        {
          "output_type": "execute_result",
          "data": {
            "text/plain": [
              "((17874, 150), (1987, 150), (17874, 6), (1987, 6))"
            ]
          },
          "metadata": {
            "tags": []
          },
          "execution_count": 82
        }
      ]
    },
    {
      "metadata": {
        "id": "ayCTUnZO5a6O",
        "colab_type": "code",
        "colab": {
          "autoexec": {
            "startup": false,
            "wait_interval": 0
          }
        }
      },
      "cell_type": "code",
      "source": [
        "X_pca_crossval = crossval_pca_df\n",
        "X_pca_holdout = holdout_pca_df"
      ],
      "execution_count": 0,
      "outputs": []
    },
    {
      "metadata": {
        "id": "aRB2ezvH6JcV",
        "colab_type": "code",
        "colab": {
          "autoexec": {
            "startup": false,
            "wait_interval": 0
          },
          "base_uri": "https://localhost:8080/",
          "height": 34
        },
        "outputId": "3622cbdb-d962-4cef-b842-e55a1d397dc8",
        "executionInfo": {
          "status": "ok",
          "timestamp": 1523218771359,
          "user_tz": 240,
          "elapsed": 382,
          "user": {
            "displayName": "Aahana Khajanchi",
            "photoUrl": "https://lh3.googleusercontent.com/a/default-user=s128",
            "userId": "111115529259210858043"
          }
        }
      },
      "cell_type": "code",
      "source": [
        "X_pca_crossval.shape,y_crossval.shape,X_pca_holdout.shape,y_holdout.shape"
      ],
      "execution_count": 88,
      "outputs": [
        {
          "output_type": "execute_result",
          "data": {
            "text/plain": [
              "((17874, 150), (17874, 6), (1987, 150), (1987, 6))"
            ]
          },
          "metadata": {
            "tags": []
          },
          "execution_count": 88
        }
      ]
    },
    {
      "metadata": {
        "id": "KYhicS7V6LWY",
        "colab_type": "code",
        "colab": {
          "autoexec": {
            "startup": false,
            "wait_interval": 0
          }
        }
      },
      "cell_type": "code",
      "source": [
        ""
      ],
      "execution_count": 0,
      "outputs": []
    }
  ]
}